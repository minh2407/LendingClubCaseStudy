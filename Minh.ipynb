{
 "cells": [
  {
   "cell_type": "code",
   "execution_count": 666,
   "id": "ffa312de",
   "metadata": {
    "id": "ffa312de"
   },
   "outputs": [],
   "source": [
    "import numpy as np\n",
    "import pandas as pd\n",
    "import matplotlib.pyplot as plot\n",
    "import seaborn as sea\n",
    "import datetime as dt\n",
    "import warnings\n",
    "\n",
    "warnings.filterwarnings('ignore') # to ignore the warnings"
   ]
  },
  {
   "cell_type": "code",
   "execution_count": 667,
   "id": "29a38b9c",
   "metadata": {
    "colab": {
     "base_uri": "https://localhost:8080/"
    },
    "id": "29a38b9c",
    "outputId": "c57504d6-bdb2-4d0f-874c-9bdb711e1cbe"
   },
   "outputs": [],
   "source": [
    "# Loading the loan data and converting into dataframe\n",
    "\n",
    "loan_df=pd.read_csv('loan.csv')\n",
    "\n"
   ]
  },
  {
   "cell_type": "markdown",
   "id": "d98da55a",
   "metadata": {
    "id": "d98da55a"
   },
   "source": [
    "##  1. Data Cleaning"
   ]
  },
  {
   "cell_type": "markdown",
   "id": "490daf2a",
   "metadata": {
    "id": "490daf2a"
   },
   "source": [
    "### 1.1 To check if there is any headers/footers or summary details rows are there and delete it.\n"
   ]
  },
  {
   "cell_type": "code",
   "execution_count": 670,
   "id": "72f4eb2f",
   "metadata": {
    "id": "72f4eb2f"
   },
   "outputs": [
    {
     "name": "stdout",
     "output_type": "stream",
     "text": [
      "(39717, 111)\n"
     ]
    },
    {
     "data": {
      "text/html": [
       "<div>\n",
       "<style scoped>\n",
       "    .dataframe tbody tr th:only-of-type {\n",
       "        vertical-align: middle;\n",
       "    }\n",
       "\n",
       "    .dataframe tbody tr th {\n",
       "        vertical-align: top;\n",
       "    }\n",
       "\n",
       "    .dataframe thead th {\n",
       "        text-align: right;\n",
       "    }\n",
       "</style>\n",
       "<table border=\"1\" class=\"dataframe\">\n",
       "  <thead>\n",
       "    <tr style=\"text-align: right;\">\n",
       "      <th></th>\n",
       "      <th>id</th>\n",
       "      <th>member_id</th>\n",
       "      <th>loan_amnt</th>\n",
       "      <th>funded_amnt</th>\n",
       "      <th>funded_amnt_inv</th>\n",
       "      <th>term</th>\n",
       "      <th>int_rate</th>\n",
       "      <th>installment</th>\n",
       "      <th>grade</th>\n",
       "      <th>sub_grade</th>\n",
       "      <th>...</th>\n",
       "      <th>num_tl_90g_dpd_24m</th>\n",
       "      <th>num_tl_op_past_12m</th>\n",
       "      <th>pct_tl_nvr_dlq</th>\n",
       "      <th>percent_bc_gt_75</th>\n",
       "      <th>pub_rec_bankruptcies</th>\n",
       "      <th>tax_liens</th>\n",
       "      <th>tot_hi_cred_lim</th>\n",
       "      <th>total_bal_ex_mort</th>\n",
       "      <th>total_bc_limit</th>\n",
       "      <th>total_il_high_credit_limit</th>\n",
       "    </tr>\n",
       "  </thead>\n",
       "  <tbody>\n",
       "    <tr>\n",
       "      <th>0</th>\n",
       "      <td>1077501</td>\n",
       "      <td>1296599</td>\n",
       "      <td>5000</td>\n",
       "      <td>5000</td>\n",
       "      <td>4975.0</td>\n",
       "      <td>36 months</td>\n",
       "      <td>10.65%</td>\n",
       "      <td>162.87</td>\n",
       "      <td>B</td>\n",
       "      <td>B2</td>\n",
       "      <td>...</td>\n",
       "      <td>NaN</td>\n",
       "      <td>NaN</td>\n",
       "      <td>NaN</td>\n",
       "      <td>NaN</td>\n",
       "      <td>0.0</td>\n",
       "      <td>0.0</td>\n",
       "      <td>NaN</td>\n",
       "      <td>NaN</td>\n",
       "      <td>NaN</td>\n",
       "      <td>NaN</td>\n",
       "    </tr>\n",
       "    <tr>\n",
       "      <th>1</th>\n",
       "      <td>1077430</td>\n",
       "      <td>1314167</td>\n",
       "      <td>2500</td>\n",
       "      <td>2500</td>\n",
       "      <td>2500.0</td>\n",
       "      <td>60 months</td>\n",
       "      <td>15.27%</td>\n",
       "      <td>59.83</td>\n",
       "      <td>C</td>\n",
       "      <td>C4</td>\n",
       "      <td>...</td>\n",
       "      <td>NaN</td>\n",
       "      <td>NaN</td>\n",
       "      <td>NaN</td>\n",
       "      <td>NaN</td>\n",
       "      <td>0.0</td>\n",
       "      <td>0.0</td>\n",
       "      <td>NaN</td>\n",
       "      <td>NaN</td>\n",
       "      <td>NaN</td>\n",
       "      <td>NaN</td>\n",
       "    </tr>\n",
       "    <tr>\n",
       "      <th>2</th>\n",
       "      <td>1077175</td>\n",
       "      <td>1313524</td>\n",
       "      <td>2400</td>\n",
       "      <td>2400</td>\n",
       "      <td>2400.0</td>\n",
       "      <td>36 months</td>\n",
       "      <td>15.96%</td>\n",
       "      <td>84.33</td>\n",
       "      <td>C</td>\n",
       "      <td>C5</td>\n",
       "      <td>...</td>\n",
       "      <td>NaN</td>\n",
       "      <td>NaN</td>\n",
       "      <td>NaN</td>\n",
       "      <td>NaN</td>\n",
       "      <td>0.0</td>\n",
       "      <td>0.0</td>\n",
       "      <td>NaN</td>\n",
       "      <td>NaN</td>\n",
       "      <td>NaN</td>\n",
       "      <td>NaN</td>\n",
       "    </tr>\n",
       "    <tr>\n",
       "      <th>3</th>\n",
       "      <td>1076863</td>\n",
       "      <td>1277178</td>\n",
       "      <td>10000</td>\n",
       "      <td>10000</td>\n",
       "      <td>10000.0</td>\n",
       "      <td>36 months</td>\n",
       "      <td>13.49%</td>\n",
       "      <td>339.31</td>\n",
       "      <td>C</td>\n",
       "      <td>C1</td>\n",
       "      <td>...</td>\n",
       "      <td>NaN</td>\n",
       "      <td>NaN</td>\n",
       "      <td>NaN</td>\n",
       "      <td>NaN</td>\n",
       "      <td>0.0</td>\n",
       "      <td>0.0</td>\n",
       "      <td>NaN</td>\n",
       "      <td>NaN</td>\n",
       "      <td>NaN</td>\n",
       "      <td>NaN</td>\n",
       "    </tr>\n",
       "    <tr>\n",
       "      <th>4</th>\n",
       "      <td>1075358</td>\n",
       "      <td>1311748</td>\n",
       "      <td>3000</td>\n",
       "      <td>3000</td>\n",
       "      <td>3000.0</td>\n",
       "      <td>60 months</td>\n",
       "      <td>12.69%</td>\n",
       "      <td>67.79</td>\n",
       "      <td>B</td>\n",
       "      <td>B5</td>\n",
       "      <td>...</td>\n",
       "      <td>NaN</td>\n",
       "      <td>NaN</td>\n",
       "      <td>NaN</td>\n",
       "      <td>NaN</td>\n",
       "      <td>0.0</td>\n",
       "      <td>0.0</td>\n",
       "      <td>NaN</td>\n",
       "      <td>NaN</td>\n",
       "      <td>NaN</td>\n",
       "      <td>NaN</td>\n",
       "    </tr>\n",
       "  </tbody>\n",
       "</table>\n",
       "<p>5 rows × 111 columns</p>\n",
       "</div>"
      ],
      "text/plain": [
       "        id  member_id  loan_amnt  funded_amnt  funded_amnt_inv        term  \\\n",
       "0  1077501    1296599       5000         5000           4975.0   36 months   \n",
       "1  1077430    1314167       2500         2500           2500.0   60 months   \n",
       "2  1077175    1313524       2400         2400           2400.0   36 months   \n",
       "3  1076863    1277178      10000        10000          10000.0   36 months   \n",
       "4  1075358    1311748       3000         3000           3000.0   60 months   \n",
       "\n",
       "  int_rate  installment grade sub_grade  ... num_tl_90g_dpd_24m  \\\n",
       "0   10.65%       162.87     B        B2  ...                NaN   \n",
       "1   15.27%        59.83     C        C4  ...                NaN   \n",
       "2   15.96%        84.33     C        C5  ...                NaN   \n",
       "3   13.49%       339.31     C        C1  ...                NaN   \n",
       "4   12.69%        67.79     B        B5  ...                NaN   \n",
       "\n",
       "  num_tl_op_past_12m pct_tl_nvr_dlq  percent_bc_gt_75 pub_rec_bankruptcies  \\\n",
       "0                NaN            NaN               NaN                  0.0   \n",
       "1                NaN            NaN               NaN                  0.0   \n",
       "2                NaN            NaN               NaN                  0.0   \n",
       "3                NaN            NaN               NaN                  0.0   \n",
       "4                NaN            NaN               NaN                  0.0   \n",
       "\n",
       "  tax_liens tot_hi_cred_lim total_bal_ex_mort total_bc_limit  \\\n",
       "0       0.0             NaN               NaN            NaN   \n",
       "1       0.0             NaN               NaN            NaN   \n",
       "2       0.0             NaN               NaN            NaN   \n",
       "3       0.0             NaN               NaN            NaN   \n",
       "4       0.0             NaN               NaN            NaN   \n",
       "\n",
       "  total_il_high_credit_limit  \n",
       "0                        NaN  \n",
       "1                        NaN  \n",
       "2                        NaN  \n",
       "3                        NaN  \n",
       "4                        NaN  \n",
       "\n",
       "[5 rows x 111 columns]"
      ]
     },
     "execution_count": 670,
     "metadata": {},
     "output_type": "execute_result"
    }
   ],
   "source": [
    "loan_df.head() # summay about the loan Data\n",
    "print(loan_df.shape)\n",
    "loan_df.head()"
   ]
  },
  {
   "cell_type": "code",
   "execution_count": 671,
   "id": "18bf867e",
   "metadata": {
    "id": "18bf867e"
   },
   "outputs": [
    {
     "name": "stdout",
     "output_type": "stream",
     "text": [
      "<class 'pandas.core.frame.DataFrame'>\n",
      "RangeIndex: 39717 entries, 0 to 39716\n",
      "Columns: 111 entries, id to total_il_high_credit_limit\n",
      "dtypes: float64(74), int64(13), object(24)\n",
      "memory usage: 33.6+ MB\n"
     ]
    }
   ],
   "source": [
    "# We can see that there is no headers or summary row presents from above dataframe. Lets check for footers rows.\n",
    "loan_df.tail()\n",
    "loan_df.info()"
   ]
  },
  {
   "cell_type": "code",
   "execution_count": 672,
   "id": "31dcae48",
   "metadata": {
    "id": "31dcae48"
   },
   "outputs": [],
   "source": [
    "# From above analysis we can say that there is no footers, Total, Subtotal rows row as well.\n",
    "# Cehck the shape the loan dataframe."
   ]
  },
  {
   "cell_type": "code",
   "execution_count": 673,
   "id": "28c1e8ce",
   "metadata": {
    "id": "28c1e8ce"
   },
   "outputs": [
    {
     "data": {
      "text/plain": [
       "(39717, 111)"
      ]
     },
     "execution_count": 673,
     "metadata": {},
     "output_type": "execute_result"
    }
   ],
   "source": [
    "loan_df.shape\n"
   ]
  },
  {
   "cell_type": "code",
   "execution_count": 674,
   "id": "97322e14",
   "metadata": {
    "id": "97322e14"
   },
   "outputs": [
    {
     "data": {
      "text/plain": [
       "39717"
      ]
     },
     "execution_count": 674,
     "metadata": {},
     "output_type": "execute_result"
    }
   ],
   "source": [
    "total_rows=len(loan_df)\n",
    "total_rows\n"
   ]
  },
  {
   "cell_type": "code",
   "execution_count": 675,
   "id": "4ec3d729",
   "metadata": {
    "id": "4ec3d729"
   },
   "outputs": [
    {
     "data": {
      "text/plain": [
       "loan_status\n",
       "Fully Paid     32950\n",
       "Charged Off     5627\n",
       "Current         1140\n",
       "Name: count, dtype: int64"
      ]
     },
     "execution_count": 675,
     "metadata": {},
     "output_type": "execute_result"
    }
   ],
   "source": [
    "#To check if there is unnessasry rows or not.\n",
    "loan_df['loan_status'].value_counts()\n"
   ]
  },
  {
   "cell_type": "code",
   "execution_count": 676,
   "id": "24e0e283",
   "metadata": {
    "id": "24e0e283"
   },
   "outputs": [
    {
     "name": "stdout",
     "output_type": "stream",
     "text": [
      "Number of rows now: 38577\n"
     ]
    }
   ],
   "source": [
    "#Dropping the rows for loan_status=='Current' as the loan currently in progress and cannot contribute to conclusive evidence if the customer will default of pay in future.\n",
    "loan_df= loan_df[loan_df['loan_status']!='Current']\n",
    "print(\"Number of rows now:\",len(loan_df)) ## Total no of rows now."
   ]
  },
  {
   "cell_type": "code",
   "execution_count": 677,
   "id": "187791bd",
   "metadata": {
    "id": "187791bd"
   },
   "outputs": [
    {
     "name": "stdout",
     "output_type": "stream",
     "text": [
      "Count of duplicate rows: 0\n"
     ]
    }
   ],
   "source": [
    "# Check if there is any duplicate rows.\n",
    "duplicate_rows = len(loan_df[loan_df.duplicated()])\n",
    "print(\"Count of duplicate rows:\",round(duplicate_rows,2))\n"
   ]
  },
  {
   "cell_type": "markdown",
   "id": "7060a2d7",
   "metadata": {
    "id": "7060a2d7"
   },
   "source": [
    "### 1.2 Delete the Uneccessasry Columns."
   ]
  },
  {
   "cell_type": "code",
   "execution_count": 679,
   "id": "a98a6e64",
   "metadata": {
    "id": "a98a6e64"
   },
   "outputs": [
    {
     "data": {
      "text/plain": [
       "(38577, 111)"
      ]
     },
     "execution_count": 679,
     "metadata": {},
     "output_type": "execute_result"
    }
   ],
   "source": [
    "loan_df.shape # to get the shape of data"
   ]
  },
  {
   "cell_type": "code",
   "execution_count": 680,
   "id": "38577c0c",
   "metadata": {
    "id": "38577c0c"
   },
   "outputs": [
    {
     "data": {
      "text/plain": [
       "id                              0.000000\n",
       "member_id                       0.000000\n",
       "loan_amnt                       0.000000\n",
       "funded_amnt                     0.000000\n",
       "funded_amnt_inv                 0.000000\n",
       "                                 ...    \n",
       "tax_liens                       0.101097\n",
       "tot_hi_cred_lim               100.000000\n",
       "total_bal_ex_mort             100.000000\n",
       "total_bc_limit                100.000000\n",
       "total_il_high_credit_limit    100.000000\n",
       "Length: 111, dtype: float64"
      ]
     },
     "execution_count": 680,
     "metadata": {},
     "output_type": "execute_result"
    }
   ],
   "source": [
    "# To Check the details of columns if the they are nulls or blanks as value.\n",
    "(loan_df.isnull().sum()*100)/len(loan_df)"
   ]
  },
  {
   "cell_type": "code",
   "execution_count": 681,
   "id": "5aaab149",
   "metadata": {
    "id": "5aaab149"
   },
   "outputs": [],
   "source": [
    "# We can see there are many columns which is having all the value as null/blanks and not doesn participate in analysis.\n",
    "#Hence removing them"
   ]
  },
  {
   "cell_type": "code",
   "execution_count": 682,
   "id": "55f0daf6",
   "metadata": {
    "id": "55f0daf6",
    "scrolled": true
   },
   "outputs": [
    {
     "name": "stdout",
     "output_type": "stream",
     "text": [
      "Total columns with values NA:  55\n",
      "NA colums List:\n"
     ]
    },
    {
     "data": {
      "text/plain": [
       "['next_pymnt_d',\n",
       " 'mths_since_last_major_derog',\n",
       " 'annual_inc_joint',\n",
       " 'dti_joint',\n",
       " 'verification_status_joint',\n",
       " 'tot_coll_amt',\n",
       " 'tot_cur_bal',\n",
       " 'open_acc_6m',\n",
       " 'open_il_6m',\n",
       " 'open_il_12m',\n",
       " 'open_il_24m',\n",
       " 'mths_since_rcnt_il',\n",
       " 'total_bal_il',\n",
       " 'il_util',\n",
       " 'open_rv_12m',\n",
       " 'open_rv_24m',\n",
       " 'max_bal_bc',\n",
       " 'all_util',\n",
       " 'total_rev_hi_lim',\n",
       " 'inq_fi',\n",
       " 'total_cu_tl',\n",
       " 'inq_last_12m',\n",
       " 'acc_open_past_24mths',\n",
       " 'avg_cur_bal',\n",
       " 'bc_open_to_buy',\n",
       " 'bc_util',\n",
       " 'mo_sin_old_il_acct',\n",
       " 'mo_sin_old_rev_tl_op',\n",
       " 'mo_sin_rcnt_rev_tl_op',\n",
       " 'mo_sin_rcnt_tl',\n",
       " 'mort_acc',\n",
       " 'mths_since_recent_bc',\n",
       " 'mths_since_recent_bc_dlq',\n",
       " 'mths_since_recent_inq',\n",
       " 'mths_since_recent_revol_delinq',\n",
       " 'num_accts_ever_120_pd',\n",
       " 'num_actv_bc_tl',\n",
       " 'num_actv_rev_tl',\n",
       " 'num_bc_sats',\n",
       " 'num_bc_tl',\n",
       " 'num_il_tl',\n",
       " 'num_op_rev_tl',\n",
       " 'num_rev_accts',\n",
       " 'num_rev_tl_bal_gt_0',\n",
       " 'num_sats',\n",
       " 'num_tl_120dpd_2m',\n",
       " 'num_tl_30dpd',\n",
       " 'num_tl_90g_dpd_24m',\n",
       " 'num_tl_op_past_12m',\n",
       " 'pct_tl_nvr_dlq',\n",
       " 'percent_bc_gt_75',\n",
       " 'tot_hi_cred_lim',\n",
       " 'total_bal_ex_mort',\n",
       " 'total_bc_limit',\n",
       " 'total_il_high_credit_limit']"
      ]
     },
     "execution_count": 682,
     "metadata": {},
     "output_type": "execute_result"
    }
   ],
   "source": [
    "print(\"Total columns with values NA: \", len(loan_df.columns[loan_df.isna().all()].tolist()))\n",
    "na_columns=list(loan_df.columns[loan_df.isna().all()])\n",
    "print(\"NA colums List:\")\n",
    "na_columns"
   ]
  },
  {
   "cell_type": "code",
   "execution_count": 683,
   "id": "7ec90a0c",
   "metadata": {
    "id": "7ec90a0c"
   },
   "outputs": [
    {
     "data": {
      "text/html": [
       "<div>\n",
       "<style scoped>\n",
       "    .dataframe tbody tr th:only-of-type {\n",
       "        vertical-align: middle;\n",
       "    }\n",
       "\n",
       "    .dataframe tbody tr th {\n",
       "        vertical-align: top;\n",
       "    }\n",
       "\n",
       "    .dataframe thead th {\n",
       "        text-align: right;\n",
       "    }\n",
       "</style>\n",
       "<table border=\"1\" class=\"dataframe\">\n",
       "  <thead>\n",
       "    <tr style=\"text-align: right;\">\n",
       "      <th></th>\n",
       "      <th>id</th>\n",
       "      <th>member_id</th>\n",
       "      <th>loan_amnt</th>\n",
       "      <th>funded_amnt</th>\n",
       "      <th>funded_amnt_inv</th>\n",
       "      <th>term</th>\n",
       "      <th>int_rate</th>\n",
       "      <th>installment</th>\n",
       "      <th>grade</th>\n",
       "      <th>sub_grade</th>\n",
       "      <th>...</th>\n",
       "      <th>last_pymnt_amnt</th>\n",
       "      <th>last_credit_pull_d</th>\n",
       "      <th>collections_12_mths_ex_med</th>\n",
       "      <th>policy_code</th>\n",
       "      <th>application_type</th>\n",
       "      <th>acc_now_delinq</th>\n",
       "      <th>chargeoff_within_12_mths</th>\n",
       "      <th>delinq_amnt</th>\n",
       "      <th>pub_rec_bankruptcies</th>\n",
       "      <th>tax_liens</th>\n",
       "    </tr>\n",
       "  </thead>\n",
       "  <tbody>\n",
       "    <tr>\n",
       "      <th>0</th>\n",
       "      <td>1077501</td>\n",
       "      <td>1296599</td>\n",
       "      <td>5000</td>\n",
       "      <td>5000</td>\n",
       "      <td>4975.0</td>\n",
       "      <td>36 months</td>\n",
       "      <td>10.65%</td>\n",
       "      <td>162.87</td>\n",
       "      <td>B</td>\n",
       "      <td>B2</td>\n",
       "      <td>...</td>\n",
       "      <td>171.62</td>\n",
       "      <td>May-16</td>\n",
       "      <td>0.0</td>\n",
       "      <td>1</td>\n",
       "      <td>INDIVIDUAL</td>\n",
       "      <td>0</td>\n",
       "      <td>0.0</td>\n",
       "      <td>0</td>\n",
       "      <td>0.0</td>\n",
       "      <td>0.0</td>\n",
       "    </tr>\n",
       "    <tr>\n",
       "      <th>1</th>\n",
       "      <td>1077430</td>\n",
       "      <td>1314167</td>\n",
       "      <td>2500</td>\n",
       "      <td>2500</td>\n",
       "      <td>2500.0</td>\n",
       "      <td>60 months</td>\n",
       "      <td>15.27%</td>\n",
       "      <td>59.83</td>\n",
       "      <td>C</td>\n",
       "      <td>C4</td>\n",
       "      <td>...</td>\n",
       "      <td>119.66</td>\n",
       "      <td>Sep-13</td>\n",
       "      <td>0.0</td>\n",
       "      <td>1</td>\n",
       "      <td>INDIVIDUAL</td>\n",
       "      <td>0</td>\n",
       "      <td>0.0</td>\n",
       "      <td>0</td>\n",
       "      <td>0.0</td>\n",
       "      <td>0.0</td>\n",
       "    </tr>\n",
       "    <tr>\n",
       "      <th>2</th>\n",
       "      <td>1077175</td>\n",
       "      <td>1313524</td>\n",
       "      <td>2400</td>\n",
       "      <td>2400</td>\n",
       "      <td>2400.0</td>\n",
       "      <td>36 months</td>\n",
       "      <td>15.96%</td>\n",
       "      <td>84.33</td>\n",
       "      <td>C</td>\n",
       "      <td>C5</td>\n",
       "      <td>...</td>\n",
       "      <td>649.91</td>\n",
       "      <td>May-16</td>\n",
       "      <td>0.0</td>\n",
       "      <td>1</td>\n",
       "      <td>INDIVIDUAL</td>\n",
       "      <td>0</td>\n",
       "      <td>0.0</td>\n",
       "      <td>0</td>\n",
       "      <td>0.0</td>\n",
       "      <td>0.0</td>\n",
       "    </tr>\n",
       "    <tr>\n",
       "      <th>3</th>\n",
       "      <td>1076863</td>\n",
       "      <td>1277178</td>\n",
       "      <td>10000</td>\n",
       "      <td>10000</td>\n",
       "      <td>10000.0</td>\n",
       "      <td>36 months</td>\n",
       "      <td>13.49%</td>\n",
       "      <td>339.31</td>\n",
       "      <td>C</td>\n",
       "      <td>C1</td>\n",
       "      <td>...</td>\n",
       "      <td>357.48</td>\n",
       "      <td>Apr-16</td>\n",
       "      <td>0.0</td>\n",
       "      <td>1</td>\n",
       "      <td>INDIVIDUAL</td>\n",
       "      <td>0</td>\n",
       "      <td>0.0</td>\n",
       "      <td>0</td>\n",
       "      <td>0.0</td>\n",
       "      <td>0.0</td>\n",
       "    </tr>\n",
       "    <tr>\n",
       "      <th>5</th>\n",
       "      <td>1075269</td>\n",
       "      <td>1311441</td>\n",
       "      <td>5000</td>\n",
       "      <td>5000</td>\n",
       "      <td>5000.0</td>\n",
       "      <td>36 months</td>\n",
       "      <td>7.90%</td>\n",
       "      <td>156.46</td>\n",
       "      <td>A</td>\n",
       "      <td>A4</td>\n",
       "      <td>...</td>\n",
       "      <td>161.03</td>\n",
       "      <td>Jan-16</td>\n",
       "      <td>0.0</td>\n",
       "      <td>1</td>\n",
       "      <td>INDIVIDUAL</td>\n",
       "      <td>0</td>\n",
       "      <td>0.0</td>\n",
       "      <td>0</td>\n",
       "      <td>0.0</td>\n",
       "      <td>0.0</td>\n",
       "    </tr>\n",
       "    <tr>\n",
       "      <th>...</th>\n",
       "      <td>...</td>\n",
       "      <td>...</td>\n",
       "      <td>...</td>\n",
       "      <td>...</td>\n",
       "      <td>...</td>\n",
       "      <td>...</td>\n",
       "      <td>...</td>\n",
       "      <td>...</td>\n",
       "      <td>...</td>\n",
       "      <td>...</td>\n",
       "      <td>...</td>\n",
       "      <td>...</td>\n",
       "      <td>...</td>\n",
       "      <td>...</td>\n",
       "      <td>...</td>\n",
       "      <td>...</td>\n",
       "      <td>...</td>\n",
       "      <td>...</td>\n",
       "      <td>...</td>\n",
       "      <td>...</td>\n",
       "      <td>...</td>\n",
       "    </tr>\n",
       "    <tr>\n",
       "      <th>39712</th>\n",
       "      <td>92187</td>\n",
       "      <td>92174</td>\n",
       "      <td>2500</td>\n",
       "      <td>2500</td>\n",
       "      <td>1075.0</td>\n",
       "      <td>36 months</td>\n",
       "      <td>8.07%</td>\n",
       "      <td>78.42</td>\n",
       "      <td>A</td>\n",
       "      <td>A4</td>\n",
       "      <td>...</td>\n",
       "      <td>80.90</td>\n",
       "      <td>Jun-10</td>\n",
       "      <td>NaN</td>\n",
       "      <td>1</td>\n",
       "      <td>INDIVIDUAL</td>\n",
       "      <td>0</td>\n",
       "      <td>NaN</td>\n",
       "      <td>0</td>\n",
       "      <td>NaN</td>\n",
       "      <td>NaN</td>\n",
       "    </tr>\n",
       "    <tr>\n",
       "      <th>39713</th>\n",
       "      <td>90665</td>\n",
       "      <td>90607</td>\n",
       "      <td>8500</td>\n",
       "      <td>8500</td>\n",
       "      <td>875.0</td>\n",
       "      <td>36 months</td>\n",
       "      <td>10.28%</td>\n",
       "      <td>275.38</td>\n",
       "      <td>C</td>\n",
       "      <td>C1</td>\n",
       "      <td>...</td>\n",
       "      <td>281.94</td>\n",
       "      <td>Jul-10</td>\n",
       "      <td>NaN</td>\n",
       "      <td>1</td>\n",
       "      <td>INDIVIDUAL</td>\n",
       "      <td>0</td>\n",
       "      <td>NaN</td>\n",
       "      <td>0</td>\n",
       "      <td>NaN</td>\n",
       "      <td>NaN</td>\n",
       "    </tr>\n",
       "    <tr>\n",
       "      <th>39714</th>\n",
       "      <td>90395</td>\n",
       "      <td>90390</td>\n",
       "      <td>5000</td>\n",
       "      <td>5000</td>\n",
       "      <td>1325.0</td>\n",
       "      <td>36 months</td>\n",
       "      <td>8.07%</td>\n",
       "      <td>156.84</td>\n",
       "      <td>A</td>\n",
       "      <td>A4</td>\n",
       "      <td>...</td>\n",
       "      <td>0.00</td>\n",
       "      <td>Jun-07</td>\n",
       "      <td>NaN</td>\n",
       "      <td>1</td>\n",
       "      <td>INDIVIDUAL</td>\n",
       "      <td>0</td>\n",
       "      <td>NaN</td>\n",
       "      <td>0</td>\n",
       "      <td>NaN</td>\n",
       "      <td>NaN</td>\n",
       "    </tr>\n",
       "    <tr>\n",
       "      <th>39715</th>\n",
       "      <td>90376</td>\n",
       "      <td>89243</td>\n",
       "      <td>5000</td>\n",
       "      <td>5000</td>\n",
       "      <td>650.0</td>\n",
       "      <td>36 months</td>\n",
       "      <td>7.43%</td>\n",
       "      <td>155.38</td>\n",
       "      <td>A</td>\n",
       "      <td>A2</td>\n",
       "      <td>...</td>\n",
       "      <td>0.00</td>\n",
       "      <td>Jun-07</td>\n",
       "      <td>NaN</td>\n",
       "      <td>1</td>\n",
       "      <td>INDIVIDUAL</td>\n",
       "      <td>0</td>\n",
       "      <td>NaN</td>\n",
       "      <td>0</td>\n",
       "      <td>NaN</td>\n",
       "      <td>NaN</td>\n",
       "    </tr>\n",
       "    <tr>\n",
       "      <th>39716</th>\n",
       "      <td>87023</td>\n",
       "      <td>86999</td>\n",
       "      <td>7500</td>\n",
       "      <td>7500</td>\n",
       "      <td>800.0</td>\n",
       "      <td>36 months</td>\n",
       "      <td>13.75%</td>\n",
       "      <td>255.43</td>\n",
       "      <td>E</td>\n",
       "      <td>E2</td>\n",
       "      <td>...</td>\n",
       "      <td>256.59</td>\n",
       "      <td>Jun-10</td>\n",
       "      <td>NaN</td>\n",
       "      <td>1</td>\n",
       "      <td>INDIVIDUAL</td>\n",
       "      <td>0</td>\n",
       "      <td>NaN</td>\n",
       "      <td>0</td>\n",
       "      <td>NaN</td>\n",
       "      <td>NaN</td>\n",
       "    </tr>\n",
       "  </tbody>\n",
       "</table>\n",
       "<p>38577 rows × 56 columns</p>\n",
       "</div>"
      ],
      "text/plain": [
       "            id  member_id  loan_amnt  funded_amnt  funded_amnt_inv  \\\n",
       "0      1077501    1296599       5000         5000           4975.0   \n",
       "1      1077430    1314167       2500         2500           2500.0   \n",
       "2      1077175    1313524       2400         2400           2400.0   \n",
       "3      1076863    1277178      10000        10000          10000.0   \n",
       "5      1075269    1311441       5000         5000           5000.0   \n",
       "...        ...        ...        ...          ...              ...   \n",
       "39712    92187      92174       2500         2500           1075.0   \n",
       "39713    90665      90607       8500         8500            875.0   \n",
       "39714    90395      90390       5000         5000           1325.0   \n",
       "39715    90376      89243       5000         5000            650.0   \n",
       "39716    87023      86999       7500         7500            800.0   \n",
       "\n",
       "             term int_rate  installment grade sub_grade  ... last_pymnt_amnt  \\\n",
       "0       36 months   10.65%       162.87     B        B2  ...          171.62   \n",
       "1       60 months   15.27%        59.83     C        C4  ...          119.66   \n",
       "2       36 months   15.96%        84.33     C        C5  ...          649.91   \n",
       "3       36 months   13.49%       339.31     C        C1  ...          357.48   \n",
       "5       36 months    7.90%       156.46     A        A4  ...          161.03   \n",
       "...           ...      ...          ...   ...       ...  ...             ...   \n",
       "39712   36 months    8.07%        78.42     A        A4  ...           80.90   \n",
       "39713   36 months   10.28%       275.38     C        C1  ...          281.94   \n",
       "39714   36 months    8.07%       156.84     A        A4  ...            0.00   \n",
       "39715   36 months    7.43%       155.38     A        A2  ...            0.00   \n",
       "39716   36 months   13.75%       255.43     E        E2  ...          256.59   \n",
       "\n",
       "      last_credit_pull_d collections_12_mths_ex_med  policy_code  \\\n",
       "0                 May-16                        0.0            1   \n",
       "1                 Sep-13                        0.0            1   \n",
       "2                 May-16                        0.0            1   \n",
       "3                 Apr-16                        0.0            1   \n",
       "5                 Jan-16                        0.0            1   \n",
       "...                  ...                        ...          ...   \n",
       "39712             Jun-10                        NaN            1   \n",
       "39713             Jul-10                        NaN            1   \n",
       "39714             Jun-07                        NaN            1   \n",
       "39715             Jun-07                        NaN            1   \n",
       "39716             Jun-10                        NaN            1   \n",
       "\n",
       "      application_type acc_now_delinq chargeoff_within_12_mths delinq_amnt  \\\n",
       "0           INDIVIDUAL              0                      0.0           0   \n",
       "1           INDIVIDUAL              0                      0.0           0   \n",
       "2           INDIVIDUAL              0                      0.0           0   \n",
       "3           INDIVIDUAL              0                      0.0           0   \n",
       "5           INDIVIDUAL              0                      0.0           0   \n",
       "...                ...            ...                      ...         ...   \n",
       "39712       INDIVIDUAL              0                      NaN           0   \n",
       "39713       INDIVIDUAL              0                      NaN           0   \n",
       "39714       INDIVIDUAL              0                      NaN           0   \n",
       "39715       INDIVIDUAL              0                      NaN           0   \n",
       "39716       INDIVIDUAL              0                      NaN           0   \n",
       "\n",
       "      pub_rec_bankruptcies tax_liens  \n",
       "0                      0.0       0.0  \n",
       "1                      0.0       0.0  \n",
       "2                      0.0       0.0  \n",
       "3                      0.0       0.0  \n",
       "5                      0.0       0.0  \n",
       "...                    ...       ...  \n",
       "39712                  NaN       NaN  \n",
       "39713                  NaN       NaN  \n",
       "39714                  NaN       NaN  \n",
       "39715                  NaN       NaN  \n",
       "39716                  NaN       NaN  \n",
       "\n",
       "[38577 rows x 56 columns]"
      ]
     },
     "execution_count": 683,
     "metadata": {},
     "output_type": "execute_result"
    }
   ],
   "source": [
    "# Deleting the columns which is having all rows values as na.\n",
    "loan_df = loan_df.dropna(axis=1, how=\"all\")\n",
    "loan_df"
   ]
  },
  {
   "cell_type": "code",
   "execution_count": 684,
   "id": "7fc372be",
   "metadata": {
    "id": "7fc372be"
   },
   "outputs": [
    {
     "data": {
      "text/html": [
       "<div>\n",
       "<style scoped>\n",
       "    .dataframe tbody tr th:only-of-type {\n",
       "        vertical-align: middle;\n",
       "    }\n",
       "\n",
       "    .dataframe tbody tr th {\n",
       "        vertical-align: top;\n",
       "    }\n",
       "\n",
       "    .dataframe thead th {\n",
       "        text-align: right;\n",
       "    }\n",
       "</style>\n",
       "<table border=\"1\" class=\"dataframe\">\n",
       "  <thead>\n",
       "    <tr style=\"text-align: right;\">\n",
       "      <th></th>\n",
       "      <th>id</th>\n",
       "      <th>member_id</th>\n",
       "      <th>loan_amnt</th>\n",
       "      <th>funded_amnt</th>\n",
       "      <th>funded_amnt_inv</th>\n",
       "      <th>term</th>\n",
       "      <th>int_rate</th>\n",
       "      <th>installment</th>\n",
       "      <th>grade</th>\n",
       "      <th>sub_grade</th>\n",
       "      <th>...</th>\n",
       "      <th>last_pymnt_amnt</th>\n",
       "      <th>last_credit_pull_d</th>\n",
       "      <th>collections_12_mths_ex_med</th>\n",
       "      <th>policy_code</th>\n",
       "      <th>application_type</th>\n",
       "      <th>acc_now_delinq</th>\n",
       "      <th>chargeoff_within_12_mths</th>\n",
       "      <th>delinq_amnt</th>\n",
       "      <th>pub_rec_bankruptcies</th>\n",
       "      <th>tax_liens</th>\n",
       "    </tr>\n",
       "  </thead>\n",
       "  <tbody>\n",
       "    <tr>\n",
       "      <th>0</th>\n",
       "      <td>1077501</td>\n",
       "      <td>1296599</td>\n",
       "      <td>5000</td>\n",
       "      <td>5000</td>\n",
       "      <td>4975.0</td>\n",
       "      <td>36 months</td>\n",
       "      <td>10.65%</td>\n",
       "      <td>162.87</td>\n",
       "      <td>B</td>\n",
       "      <td>B2</td>\n",
       "      <td>...</td>\n",
       "      <td>171.62</td>\n",
       "      <td>May-16</td>\n",
       "      <td>0.0</td>\n",
       "      <td>1</td>\n",
       "      <td>INDIVIDUAL</td>\n",
       "      <td>0</td>\n",
       "      <td>0.0</td>\n",
       "      <td>0</td>\n",
       "      <td>0.0</td>\n",
       "      <td>0.0</td>\n",
       "    </tr>\n",
       "    <tr>\n",
       "      <th>1</th>\n",
       "      <td>1077430</td>\n",
       "      <td>1314167</td>\n",
       "      <td>2500</td>\n",
       "      <td>2500</td>\n",
       "      <td>2500.0</td>\n",
       "      <td>60 months</td>\n",
       "      <td>15.27%</td>\n",
       "      <td>59.83</td>\n",
       "      <td>C</td>\n",
       "      <td>C4</td>\n",
       "      <td>...</td>\n",
       "      <td>119.66</td>\n",
       "      <td>Sep-13</td>\n",
       "      <td>0.0</td>\n",
       "      <td>1</td>\n",
       "      <td>INDIVIDUAL</td>\n",
       "      <td>0</td>\n",
       "      <td>0.0</td>\n",
       "      <td>0</td>\n",
       "      <td>0.0</td>\n",
       "      <td>0.0</td>\n",
       "    </tr>\n",
       "    <tr>\n",
       "      <th>2</th>\n",
       "      <td>1077175</td>\n",
       "      <td>1313524</td>\n",
       "      <td>2400</td>\n",
       "      <td>2400</td>\n",
       "      <td>2400.0</td>\n",
       "      <td>36 months</td>\n",
       "      <td>15.96%</td>\n",
       "      <td>84.33</td>\n",
       "      <td>C</td>\n",
       "      <td>C5</td>\n",
       "      <td>...</td>\n",
       "      <td>649.91</td>\n",
       "      <td>May-16</td>\n",
       "      <td>0.0</td>\n",
       "      <td>1</td>\n",
       "      <td>INDIVIDUAL</td>\n",
       "      <td>0</td>\n",
       "      <td>0.0</td>\n",
       "      <td>0</td>\n",
       "      <td>0.0</td>\n",
       "      <td>0.0</td>\n",
       "    </tr>\n",
       "    <tr>\n",
       "      <th>3</th>\n",
       "      <td>1076863</td>\n",
       "      <td>1277178</td>\n",
       "      <td>10000</td>\n",
       "      <td>10000</td>\n",
       "      <td>10000.0</td>\n",
       "      <td>36 months</td>\n",
       "      <td>13.49%</td>\n",
       "      <td>339.31</td>\n",
       "      <td>C</td>\n",
       "      <td>C1</td>\n",
       "      <td>...</td>\n",
       "      <td>357.48</td>\n",
       "      <td>Apr-16</td>\n",
       "      <td>0.0</td>\n",
       "      <td>1</td>\n",
       "      <td>INDIVIDUAL</td>\n",
       "      <td>0</td>\n",
       "      <td>0.0</td>\n",
       "      <td>0</td>\n",
       "      <td>0.0</td>\n",
       "      <td>0.0</td>\n",
       "    </tr>\n",
       "    <tr>\n",
       "      <th>5</th>\n",
       "      <td>1075269</td>\n",
       "      <td>1311441</td>\n",
       "      <td>5000</td>\n",
       "      <td>5000</td>\n",
       "      <td>5000.0</td>\n",
       "      <td>36 months</td>\n",
       "      <td>7.90%</td>\n",
       "      <td>156.46</td>\n",
       "      <td>A</td>\n",
       "      <td>A4</td>\n",
       "      <td>...</td>\n",
       "      <td>161.03</td>\n",
       "      <td>Jan-16</td>\n",
       "      <td>0.0</td>\n",
       "      <td>1</td>\n",
       "      <td>INDIVIDUAL</td>\n",
       "      <td>0</td>\n",
       "      <td>0.0</td>\n",
       "      <td>0</td>\n",
       "      <td>0.0</td>\n",
       "      <td>0.0</td>\n",
       "    </tr>\n",
       "    <tr>\n",
       "      <th>...</th>\n",
       "      <td>...</td>\n",
       "      <td>...</td>\n",
       "      <td>...</td>\n",
       "      <td>...</td>\n",
       "      <td>...</td>\n",
       "      <td>...</td>\n",
       "      <td>...</td>\n",
       "      <td>...</td>\n",
       "      <td>...</td>\n",
       "      <td>...</td>\n",
       "      <td>...</td>\n",
       "      <td>...</td>\n",
       "      <td>...</td>\n",
       "      <td>...</td>\n",
       "      <td>...</td>\n",
       "      <td>...</td>\n",
       "      <td>...</td>\n",
       "      <td>...</td>\n",
       "      <td>...</td>\n",
       "      <td>...</td>\n",
       "      <td>...</td>\n",
       "    </tr>\n",
       "    <tr>\n",
       "      <th>39712</th>\n",
       "      <td>92187</td>\n",
       "      <td>92174</td>\n",
       "      <td>2500</td>\n",
       "      <td>2500</td>\n",
       "      <td>1075.0</td>\n",
       "      <td>36 months</td>\n",
       "      <td>8.07%</td>\n",
       "      <td>78.42</td>\n",
       "      <td>A</td>\n",
       "      <td>A4</td>\n",
       "      <td>...</td>\n",
       "      <td>80.90</td>\n",
       "      <td>Jun-10</td>\n",
       "      <td>NaN</td>\n",
       "      <td>1</td>\n",
       "      <td>INDIVIDUAL</td>\n",
       "      <td>0</td>\n",
       "      <td>NaN</td>\n",
       "      <td>0</td>\n",
       "      <td>NaN</td>\n",
       "      <td>NaN</td>\n",
       "    </tr>\n",
       "    <tr>\n",
       "      <th>39713</th>\n",
       "      <td>90665</td>\n",
       "      <td>90607</td>\n",
       "      <td>8500</td>\n",
       "      <td>8500</td>\n",
       "      <td>875.0</td>\n",
       "      <td>36 months</td>\n",
       "      <td>10.28%</td>\n",
       "      <td>275.38</td>\n",
       "      <td>C</td>\n",
       "      <td>C1</td>\n",
       "      <td>...</td>\n",
       "      <td>281.94</td>\n",
       "      <td>Jul-10</td>\n",
       "      <td>NaN</td>\n",
       "      <td>1</td>\n",
       "      <td>INDIVIDUAL</td>\n",
       "      <td>0</td>\n",
       "      <td>NaN</td>\n",
       "      <td>0</td>\n",
       "      <td>NaN</td>\n",
       "      <td>NaN</td>\n",
       "    </tr>\n",
       "    <tr>\n",
       "      <th>39714</th>\n",
       "      <td>90395</td>\n",
       "      <td>90390</td>\n",
       "      <td>5000</td>\n",
       "      <td>5000</td>\n",
       "      <td>1325.0</td>\n",
       "      <td>36 months</td>\n",
       "      <td>8.07%</td>\n",
       "      <td>156.84</td>\n",
       "      <td>A</td>\n",
       "      <td>A4</td>\n",
       "      <td>...</td>\n",
       "      <td>0.00</td>\n",
       "      <td>Jun-07</td>\n",
       "      <td>NaN</td>\n",
       "      <td>1</td>\n",
       "      <td>INDIVIDUAL</td>\n",
       "      <td>0</td>\n",
       "      <td>NaN</td>\n",
       "      <td>0</td>\n",
       "      <td>NaN</td>\n",
       "      <td>NaN</td>\n",
       "    </tr>\n",
       "    <tr>\n",
       "      <th>39715</th>\n",
       "      <td>90376</td>\n",
       "      <td>89243</td>\n",
       "      <td>5000</td>\n",
       "      <td>5000</td>\n",
       "      <td>650.0</td>\n",
       "      <td>36 months</td>\n",
       "      <td>7.43%</td>\n",
       "      <td>155.38</td>\n",
       "      <td>A</td>\n",
       "      <td>A2</td>\n",
       "      <td>...</td>\n",
       "      <td>0.00</td>\n",
       "      <td>Jun-07</td>\n",
       "      <td>NaN</td>\n",
       "      <td>1</td>\n",
       "      <td>INDIVIDUAL</td>\n",
       "      <td>0</td>\n",
       "      <td>NaN</td>\n",
       "      <td>0</td>\n",
       "      <td>NaN</td>\n",
       "      <td>NaN</td>\n",
       "    </tr>\n",
       "    <tr>\n",
       "      <th>39716</th>\n",
       "      <td>87023</td>\n",
       "      <td>86999</td>\n",
       "      <td>7500</td>\n",
       "      <td>7500</td>\n",
       "      <td>800.0</td>\n",
       "      <td>36 months</td>\n",
       "      <td>13.75%</td>\n",
       "      <td>255.43</td>\n",
       "      <td>E</td>\n",
       "      <td>E2</td>\n",
       "      <td>...</td>\n",
       "      <td>256.59</td>\n",
       "      <td>Jun-10</td>\n",
       "      <td>NaN</td>\n",
       "      <td>1</td>\n",
       "      <td>INDIVIDUAL</td>\n",
       "      <td>0</td>\n",
       "      <td>NaN</td>\n",
       "      <td>0</td>\n",
       "      <td>NaN</td>\n",
       "      <td>NaN</td>\n",
       "    </tr>\n",
       "  </tbody>\n",
       "</table>\n",
       "<p>38577 rows × 56 columns</p>\n",
       "</div>"
      ],
      "text/plain": [
       "            id  member_id  loan_amnt  funded_amnt  funded_amnt_inv  \\\n",
       "0      1077501    1296599       5000         5000           4975.0   \n",
       "1      1077430    1314167       2500         2500           2500.0   \n",
       "2      1077175    1313524       2400         2400           2400.0   \n",
       "3      1076863    1277178      10000        10000          10000.0   \n",
       "5      1075269    1311441       5000         5000           5000.0   \n",
       "...        ...        ...        ...          ...              ...   \n",
       "39712    92187      92174       2500         2500           1075.0   \n",
       "39713    90665      90607       8500         8500            875.0   \n",
       "39714    90395      90390       5000         5000           1325.0   \n",
       "39715    90376      89243       5000         5000            650.0   \n",
       "39716    87023      86999       7500         7500            800.0   \n",
       "\n",
       "             term int_rate  installment grade sub_grade  ... last_pymnt_amnt  \\\n",
       "0       36 months   10.65%       162.87     B        B2  ...          171.62   \n",
       "1       60 months   15.27%        59.83     C        C4  ...          119.66   \n",
       "2       36 months   15.96%        84.33     C        C5  ...          649.91   \n",
       "3       36 months   13.49%       339.31     C        C1  ...          357.48   \n",
       "5       36 months    7.90%       156.46     A        A4  ...          161.03   \n",
       "...           ...      ...          ...   ...       ...  ...             ...   \n",
       "39712   36 months    8.07%        78.42     A        A4  ...           80.90   \n",
       "39713   36 months   10.28%       275.38     C        C1  ...          281.94   \n",
       "39714   36 months    8.07%       156.84     A        A4  ...            0.00   \n",
       "39715   36 months    7.43%       155.38     A        A2  ...            0.00   \n",
       "39716   36 months   13.75%       255.43     E        E2  ...          256.59   \n",
       "\n",
       "      last_credit_pull_d collections_12_mths_ex_med  policy_code  \\\n",
       "0                 May-16                        0.0            1   \n",
       "1                 Sep-13                        0.0            1   \n",
       "2                 May-16                        0.0            1   \n",
       "3                 Apr-16                        0.0            1   \n",
       "5                 Jan-16                        0.0            1   \n",
       "...                  ...                        ...          ...   \n",
       "39712             Jun-10                        NaN            1   \n",
       "39713             Jul-10                        NaN            1   \n",
       "39714             Jun-07                        NaN            1   \n",
       "39715             Jun-07                        NaN            1   \n",
       "39716             Jun-10                        NaN            1   \n",
       "\n",
       "      application_type acc_now_delinq chargeoff_within_12_mths delinq_amnt  \\\n",
       "0           INDIVIDUAL              0                      0.0           0   \n",
       "1           INDIVIDUAL              0                      0.0           0   \n",
       "2           INDIVIDUAL              0                      0.0           0   \n",
       "3           INDIVIDUAL              0                      0.0           0   \n",
       "5           INDIVIDUAL              0                      0.0           0   \n",
       "...                ...            ...                      ...         ...   \n",
       "39712       INDIVIDUAL              0                      NaN           0   \n",
       "39713       INDIVIDUAL              0                      NaN           0   \n",
       "39714       INDIVIDUAL              0                      NaN           0   \n",
       "39715       INDIVIDUAL              0                      NaN           0   \n",
       "39716       INDIVIDUAL              0                      NaN           0   \n",
       "\n",
       "      pub_rec_bankruptcies tax_liens  \n",
       "0                      0.0       0.0  \n",
       "1                      0.0       0.0  \n",
       "2                      0.0       0.0  \n",
       "3                      0.0       0.0  \n",
       "5                      0.0       0.0  \n",
       "...                    ...       ...  \n",
       "39712                  NaN       NaN  \n",
       "39713                  NaN       NaN  \n",
       "39714                  NaN       NaN  \n",
       "39715                  NaN       NaN  \n",
       "39716                  NaN       NaN  \n",
       "\n",
       "[38577 rows x 56 columns]"
      ]
     },
     "execution_count": 684,
     "metadata": {},
     "output_type": "execute_result"
    }
   ],
   "source": [
    "# Deleting the rows which is having all columns values as na.\n",
    "loan_df = loan_df.dropna(axis=0, how=\"all\")\n",
    "loan_df"
   ]
  },
  {
   "cell_type": "code",
   "execution_count": 685,
   "id": "8140c140",
   "metadata": {
    "id": "8140c140"
   },
   "outputs": [
    {
     "data": {
      "text/plain": [
       "['id', 'member_id', 'url']"
      ]
     },
     "execution_count": 685,
     "metadata": {},
     "output_type": "execute_result"
    }
   ],
   "source": [
    "# Lets delete all the columns which value is uniqe in nature.\n",
    "\n",
    "unique_columns = [col for col in loan_df.columns if loan_df[col].nunique() == len(loan_df)]\n",
    "unique_columns\n"
   ]
  },
  {
   "cell_type": "code",
   "execution_count": 686,
   "id": "cc2c5f67",
   "metadata": {
    "id": "cc2c5f67"
   },
   "outputs": [],
   "source": [
    "# We will delete'member_id', and 'url' as it doesn't count in EDA. Will keep the id columns which will be bused for creating piviot table\n",
    "loan_df.drop(['url','member_id'],axis=1, inplace=True)\n"
   ]
  },
  {
   "cell_type": "code",
   "execution_count": 687,
   "id": "db793c0e",
   "metadata": {
    "colab": {
     "base_uri": "https://localhost:8080/"
    },
    "id": "db793c0e",
    "outputId": "de39ccb0-6ebc-43df-82d3-a493aeda6d90"
   },
   "outputs": [
    {
     "data": {
      "text/plain": [
       "(38577, 54)"
      ]
     },
     "execution_count": 687,
     "metadata": {},
     "output_type": "execute_result"
    }
   ],
   "source": [
    "loan_df.shape"
   ]
  },
  {
   "cell_type": "code",
   "execution_count": 688,
   "id": "383eb3a5",
   "metadata": {
    "id": "383eb3a5"
   },
   "outputs": [],
   "source": [
    "# Lets delete the column which is having text/description values as they don't donctribute to EDA."
   ]
  },
  {
   "cell_type": "code",
   "execution_count": 689,
   "id": "a0d7532c",
   "metadata": {
    "id": "a0d7532c"
   },
   "outputs": [
    {
     "data": {
      "text/plain": [
       "(38577, 52)"
      ]
     },
     "execution_count": 689,
     "metadata": {},
     "output_type": "execute_result"
    }
   ],
   "source": [
    "loan_df.drop(columns=['desc','title'],inplace=True)\n",
    "loan_df.shape"
   ]
  },
  {
   "cell_type": "code",
   "execution_count": 690,
   "id": "6461fccc",
   "metadata": {
    "id": "6461fccc"
   },
   "outputs": [],
   "source": [
    "# We will limit our analysis till Group level only. Hence deleting the subgroups.\n",
    "loan_df = loan_df.drop(['sub_grade'],  axis=1)"
   ]
  },
  {
   "cell_type": "code",
   "execution_count": 691,
   "id": "35d2e58f",
   "metadata": {
    "id": "35d2e58f"
   },
   "outputs": [],
   "source": [
    "#Behavioural data is captured post loan approval and will not be available during the loan approval process. Hence removing these fields.\n",
    "behavioural_cols=['delinq_2yrs', 'earliest_cr_line', 'last_pymnt_amnt','inq_last_6mths', 'open_acc', 'pub_rec', 'revol_bal', 'revol_util', 'total_acc',\n",
    "                          'out_prncp', 'out_prncp_inv', 'total_pymnt','total_pymnt_inv', 'total_rec_prncp',\n",
    "                          'total_rec_int', 'total_rec_late_fee', 'recoveries', 'collection_recovery_fee',\n",
    "                        'application_type','last_pymnt_d','last_credit_pull_d']\n",
    "\n",
    "loan_df=loan_df.drop(behavioural_cols,axis=1)"
   ]
  },
  {
   "cell_type": "code",
   "execution_count": 692,
   "id": "92ecb12e",
   "metadata": {
    "id": "92ecb12e"
   },
   "outputs": [
    {
     "data": {
      "text/plain": [
       "tax_liens                         1\n",
       "delinq_amnt                       1\n",
       "chargeoff_within_12_mths          1\n",
       "acc_now_delinq                    1\n",
       "policy_code                       1\n",
       "collections_12_mths_ex_med        1\n",
       "initial_list_status               1\n",
       "pymnt_plan                        1\n",
       "loan_status                       2\n",
       "term                              2\n",
       "verification_status               3\n",
       "pub_rec_bankruptcies              3\n",
       "home_ownership                    5\n",
       "grade                             7\n",
       "emp_length                       11\n",
       "purpose                          14\n",
       "addr_state                       50\n",
       "issue_d                          55\n",
       "mths_since_last_delinq           95\n",
       "mths_since_last_record          111\n",
       "int_rate                        370\n",
       "zip_code                        822\n",
       "loan_amnt                       870\n",
       "funded_amnt                    1019\n",
       "dti                            2853\n",
       "annual_inc                     5215\n",
       "funded_amnt_inv                8050\n",
       "installment                   15022\n",
       "emp_title                     28027\n",
       "id                            38577\n",
       "dtype: int64"
      ]
     },
     "execution_count": 692,
     "metadata": {},
     "output_type": "execute_result"
    }
   ],
   "source": [
    "loan_df.nunique().sort_values()"
   ]
  },
  {
   "cell_type": "code",
   "execution_count": 693,
   "id": "3d9bdeb2",
   "metadata": {
    "id": "3d9bdeb2"
   },
   "outputs": [
    {
     "name": "stdout",
     "output_type": "stream",
     "text": [
      "pymnt_plan\n",
      "initial_list_status\n",
      "collections_12_mths_ex_med\n",
      "policy_code\n",
      "acc_now_delinq\n",
      "chargeoff_within_12_mths\n",
      "delinq_amnt\n",
      "tax_liens\n",
      "-------------\n"
     ]
    },
    {
     "data": {
      "text/html": [
       "<div>\n",
       "<style scoped>\n",
       "    .dataframe tbody tr th:only-of-type {\n",
       "        vertical-align: middle;\n",
       "    }\n",
       "\n",
       "    .dataframe tbody tr th {\n",
       "        vertical-align: top;\n",
       "    }\n",
       "\n",
       "    .dataframe thead th {\n",
       "        text-align: right;\n",
       "    }\n",
       "</style>\n",
       "<table border=\"1\" class=\"dataframe\">\n",
       "  <thead>\n",
       "    <tr style=\"text-align: right;\">\n",
       "      <th></th>\n",
       "      <th>id</th>\n",
       "      <th>loan_amnt</th>\n",
       "      <th>funded_amnt</th>\n",
       "      <th>funded_amnt_inv</th>\n",
       "      <th>term</th>\n",
       "      <th>int_rate</th>\n",
       "      <th>installment</th>\n",
       "      <th>grade</th>\n",
       "      <th>emp_title</th>\n",
       "      <th>emp_length</th>\n",
       "      <th>...</th>\n",
       "      <th>verification_status</th>\n",
       "      <th>issue_d</th>\n",
       "      <th>loan_status</th>\n",
       "      <th>purpose</th>\n",
       "      <th>zip_code</th>\n",
       "      <th>addr_state</th>\n",
       "      <th>dti</th>\n",
       "      <th>mths_since_last_delinq</th>\n",
       "      <th>mths_since_last_record</th>\n",
       "      <th>pub_rec_bankruptcies</th>\n",
       "    </tr>\n",
       "  </thead>\n",
       "  <tbody>\n",
       "    <tr>\n",
       "      <th>0</th>\n",
       "      <td>1077501</td>\n",
       "      <td>5000</td>\n",
       "      <td>5000</td>\n",
       "      <td>4975.0</td>\n",
       "      <td>36 months</td>\n",
       "      <td>10.65%</td>\n",
       "      <td>162.87</td>\n",
       "      <td>B</td>\n",
       "      <td>NaN</td>\n",
       "      <td>10+ years</td>\n",
       "      <td>...</td>\n",
       "      <td>Verified</td>\n",
       "      <td>Dec-11</td>\n",
       "      <td>Fully Paid</td>\n",
       "      <td>credit_card</td>\n",
       "      <td>860xx</td>\n",
       "      <td>AZ</td>\n",
       "      <td>27.65</td>\n",
       "      <td>NaN</td>\n",
       "      <td>NaN</td>\n",
       "      <td>0.0</td>\n",
       "    </tr>\n",
       "    <tr>\n",
       "      <th>1</th>\n",
       "      <td>1077430</td>\n",
       "      <td>2500</td>\n",
       "      <td>2500</td>\n",
       "      <td>2500.0</td>\n",
       "      <td>60 months</td>\n",
       "      <td>15.27%</td>\n",
       "      <td>59.83</td>\n",
       "      <td>C</td>\n",
       "      <td>Ryder</td>\n",
       "      <td>&lt; 1 year</td>\n",
       "      <td>...</td>\n",
       "      <td>Source Verified</td>\n",
       "      <td>Dec-11</td>\n",
       "      <td>Charged Off</td>\n",
       "      <td>car</td>\n",
       "      <td>309xx</td>\n",
       "      <td>GA</td>\n",
       "      <td>1.00</td>\n",
       "      <td>NaN</td>\n",
       "      <td>NaN</td>\n",
       "      <td>0.0</td>\n",
       "    </tr>\n",
       "    <tr>\n",
       "      <th>2</th>\n",
       "      <td>1077175</td>\n",
       "      <td>2400</td>\n",
       "      <td>2400</td>\n",
       "      <td>2400.0</td>\n",
       "      <td>36 months</td>\n",
       "      <td>15.96%</td>\n",
       "      <td>84.33</td>\n",
       "      <td>C</td>\n",
       "      <td>NaN</td>\n",
       "      <td>10+ years</td>\n",
       "      <td>...</td>\n",
       "      <td>Not Verified</td>\n",
       "      <td>Dec-11</td>\n",
       "      <td>Fully Paid</td>\n",
       "      <td>small_business</td>\n",
       "      <td>606xx</td>\n",
       "      <td>IL</td>\n",
       "      <td>8.72</td>\n",
       "      <td>NaN</td>\n",
       "      <td>NaN</td>\n",
       "      <td>0.0</td>\n",
       "    </tr>\n",
       "    <tr>\n",
       "      <th>3</th>\n",
       "      <td>1076863</td>\n",
       "      <td>10000</td>\n",
       "      <td>10000</td>\n",
       "      <td>10000.0</td>\n",
       "      <td>36 months</td>\n",
       "      <td>13.49%</td>\n",
       "      <td>339.31</td>\n",
       "      <td>C</td>\n",
       "      <td>AIR RESOURCES BOARD</td>\n",
       "      <td>10+ years</td>\n",
       "      <td>...</td>\n",
       "      <td>Source Verified</td>\n",
       "      <td>Dec-11</td>\n",
       "      <td>Fully Paid</td>\n",
       "      <td>other</td>\n",
       "      <td>917xx</td>\n",
       "      <td>CA</td>\n",
       "      <td>20.00</td>\n",
       "      <td>35.0</td>\n",
       "      <td>NaN</td>\n",
       "      <td>0.0</td>\n",
       "    </tr>\n",
       "    <tr>\n",
       "      <th>5</th>\n",
       "      <td>1075269</td>\n",
       "      <td>5000</td>\n",
       "      <td>5000</td>\n",
       "      <td>5000.0</td>\n",
       "      <td>36 months</td>\n",
       "      <td>7.90%</td>\n",
       "      <td>156.46</td>\n",
       "      <td>A</td>\n",
       "      <td>Veolia Transportaton</td>\n",
       "      <td>3 years</td>\n",
       "      <td>...</td>\n",
       "      <td>Source Verified</td>\n",
       "      <td>Dec-11</td>\n",
       "      <td>Fully Paid</td>\n",
       "      <td>wedding</td>\n",
       "      <td>852xx</td>\n",
       "      <td>AZ</td>\n",
       "      <td>11.20</td>\n",
       "      <td>NaN</td>\n",
       "      <td>NaN</td>\n",
       "      <td>0.0</td>\n",
       "    </tr>\n",
       "    <tr>\n",
       "      <th>...</th>\n",
       "      <td>...</td>\n",
       "      <td>...</td>\n",
       "      <td>...</td>\n",
       "      <td>...</td>\n",
       "      <td>...</td>\n",
       "      <td>...</td>\n",
       "      <td>...</td>\n",
       "      <td>...</td>\n",
       "      <td>...</td>\n",
       "      <td>...</td>\n",
       "      <td>...</td>\n",
       "      <td>...</td>\n",
       "      <td>...</td>\n",
       "      <td>...</td>\n",
       "      <td>...</td>\n",
       "      <td>...</td>\n",
       "      <td>...</td>\n",
       "      <td>...</td>\n",
       "      <td>...</td>\n",
       "      <td>...</td>\n",
       "      <td>...</td>\n",
       "    </tr>\n",
       "    <tr>\n",
       "      <th>39712</th>\n",
       "      <td>92187</td>\n",
       "      <td>2500</td>\n",
       "      <td>2500</td>\n",
       "      <td>1075.0</td>\n",
       "      <td>36 months</td>\n",
       "      <td>8.07%</td>\n",
       "      <td>78.42</td>\n",
       "      <td>A</td>\n",
       "      <td>FiSite Research</td>\n",
       "      <td>4 years</td>\n",
       "      <td>...</td>\n",
       "      <td>Not Verified</td>\n",
       "      <td>Jul-07</td>\n",
       "      <td>Fully Paid</td>\n",
       "      <td>home_improvement</td>\n",
       "      <td>802xx</td>\n",
       "      <td>CO</td>\n",
       "      <td>11.33</td>\n",
       "      <td>0.0</td>\n",
       "      <td>0.0</td>\n",
       "      <td>NaN</td>\n",
       "    </tr>\n",
       "    <tr>\n",
       "      <th>39713</th>\n",
       "      <td>90665</td>\n",
       "      <td>8500</td>\n",
       "      <td>8500</td>\n",
       "      <td>875.0</td>\n",
       "      <td>36 months</td>\n",
       "      <td>10.28%</td>\n",
       "      <td>275.38</td>\n",
       "      <td>C</td>\n",
       "      <td>Squarewave Solutions, Ltd.</td>\n",
       "      <td>3 years</td>\n",
       "      <td>...</td>\n",
       "      <td>Not Verified</td>\n",
       "      <td>Jul-07</td>\n",
       "      <td>Fully Paid</td>\n",
       "      <td>credit_card</td>\n",
       "      <td>274xx</td>\n",
       "      <td>NC</td>\n",
       "      <td>6.40</td>\n",
       "      <td>5.0</td>\n",
       "      <td>0.0</td>\n",
       "      <td>NaN</td>\n",
       "    </tr>\n",
       "    <tr>\n",
       "      <th>39714</th>\n",
       "      <td>90395</td>\n",
       "      <td>5000</td>\n",
       "      <td>5000</td>\n",
       "      <td>1325.0</td>\n",
       "      <td>36 months</td>\n",
       "      <td>8.07%</td>\n",
       "      <td>156.84</td>\n",
       "      <td>A</td>\n",
       "      <td>NaN</td>\n",
       "      <td>&lt; 1 year</td>\n",
       "      <td>...</td>\n",
       "      <td>Not Verified</td>\n",
       "      <td>Jul-07</td>\n",
       "      <td>Fully Paid</td>\n",
       "      <td>debt_consolidation</td>\n",
       "      <td>017xx</td>\n",
       "      <td>MA</td>\n",
       "      <td>2.30</td>\n",
       "      <td>0.0</td>\n",
       "      <td>0.0</td>\n",
       "      <td>NaN</td>\n",
       "    </tr>\n",
       "    <tr>\n",
       "      <th>39715</th>\n",
       "      <td>90376</td>\n",
       "      <td>5000</td>\n",
       "      <td>5000</td>\n",
       "      <td>650.0</td>\n",
       "      <td>36 months</td>\n",
       "      <td>7.43%</td>\n",
       "      <td>155.38</td>\n",
       "      <td>A</td>\n",
       "      <td>NaN</td>\n",
       "      <td>&lt; 1 year</td>\n",
       "      <td>...</td>\n",
       "      <td>Not Verified</td>\n",
       "      <td>Jul-07</td>\n",
       "      <td>Fully Paid</td>\n",
       "      <td>other</td>\n",
       "      <td>208xx</td>\n",
       "      <td>MD</td>\n",
       "      <td>3.72</td>\n",
       "      <td>0.0</td>\n",
       "      <td>0.0</td>\n",
       "      <td>NaN</td>\n",
       "    </tr>\n",
       "    <tr>\n",
       "      <th>39716</th>\n",
       "      <td>87023</td>\n",
       "      <td>7500</td>\n",
       "      <td>7500</td>\n",
       "      <td>800.0</td>\n",
       "      <td>36 months</td>\n",
       "      <td>13.75%</td>\n",
       "      <td>255.43</td>\n",
       "      <td>E</td>\n",
       "      <td>Evergreen Center</td>\n",
       "      <td>&lt; 1 year</td>\n",
       "      <td>...</td>\n",
       "      <td>Not Verified</td>\n",
       "      <td>Jun-07</td>\n",
       "      <td>Fully Paid</td>\n",
       "      <td>debt_consolidation</td>\n",
       "      <td>027xx</td>\n",
       "      <td>MA</td>\n",
       "      <td>14.29</td>\n",
       "      <td>11.0</td>\n",
       "      <td>0.0</td>\n",
       "      <td>NaN</td>\n",
       "    </tr>\n",
       "  </tbody>\n",
       "</table>\n",
       "<p>38577 rows × 22 columns</p>\n",
       "</div>"
      ],
      "text/plain": [
       "            id  loan_amnt  funded_amnt  funded_amnt_inv        term int_rate  \\\n",
       "0      1077501       5000         5000           4975.0   36 months   10.65%   \n",
       "1      1077430       2500         2500           2500.0   60 months   15.27%   \n",
       "2      1077175       2400         2400           2400.0   36 months   15.96%   \n",
       "3      1076863      10000        10000          10000.0   36 months   13.49%   \n",
       "5      1075269       5000         5000           5000.0   36 months    7.90%   \n",
       "...        ...        ...          ...              ...         ...      ...   \n",
       "39712    92187       2500         2500           1075.0   36 months    8.07%   \n",
       "39713    90665       8500         8500            875.0   36 months   10.28%   \n",
       "39714    90395       5000         5000           1325.0   36 months    8.07%   \n",
       "39715    90376       5000         5000            650.0   36 months    7.43%   \n",
       "39716    87023       7500         7500            800.0   36 months   13.75%   \n",
       "\n",
       "       installment grade                   emp_title emp_length  ...  \\\n",
       "0           162.87     B                         NaN  10+ years  ...   \n",
       "1            59.83     C                       Ryder   < 1 year  ...   \n",
       "2            84.33     C                         NaN  10+ years  ...   \n",
       "3           339.31     C         AIR RESOURCES BOARD  10+ years  ...   \n",
       "5           156.46     A        Veolia Transportaton    3 years  ...   \n",
       "...            ...   ...                         ...        ...  ...   \n",
       "39712        78.42     A             FiSite Research    4 years  ...   \n",
       "39713       275.38     C  Squarewave Solutions, Ltd.    3 years  ...   \n",
       "39714       156.84     A                         NaN   < 1 year  ...   \n",
       "39715       155.38     A                         NaN   < 1 year  ...   \n",
       "39716       255.43     E            Evergreen Center   < 1 year  ...   \n",
       "\n",
       "      verification_status  issue_d  loan_status             purpose zip_code  \\\n",
       "0                Verified   Dec-11   Fully Paid         credit_card    860xx   \n",
       "1         Source Verified   Dec-11  Charged Off                 car    309xx   \n",
       "2            Not Verified   Dec-11   Fully Paid      small_business    606xx   \n",
       "3         Source Verified   Dec-11   Fully Paid               other    917xx   \n",
       "5         Source Verified   Dec-11   Fully Paid             wedding    852xx   \n",
       "...                   ...      ...          ...                 ...      ...   \n",
       "39712        Not Verified   Jul-07   Fully Paid    home_improvement    802xx   \n",
       "39713        Not Verified   Jul-07   Fully Paid         credit_card    274xx   \n",
       "39714        Not Verified   Jul-07   Fully Paid  debt_consolidation    017xx   \n",
       "39715        Not Verified   Jul-07   Fully Paid               other    208xx   \n",
       "39716        Not Verified   Jun-07   Fully Paid  debt_consolidation    027xx   \n",
       "\n",
       "      addr_state    dti mths_since_last_delinq  mths_since_last_record  \\\n",
       "0             AZ  27.65                    NaN                     NaN   \n",
       "1             GA   1.00                    NaN                     NaN   \n",
       "2             IL   8.72                    NaN                     NaN   \n",
       "3             CA  20.00                   35.0                     NaN   \n",
       "5             AZ  11.20                    NaN                     NaN   \n",
       "...          ...    ...                    ...                     ...   \n",
       "39712         CO  11.33                    0.0                     0.0   \n",
       "39713         NC   6.40                    5.0                     0.0   \n",
       "39714         MA   2.30                    0.0                     0.0   \n",
       "39715         MD   3.72                    0.0                     0.0   \n",
       "39716         MA  14.29                   11.0                     0.0   \n",
       "\n",
       "       pub_rec_bankruptcies  \n",
       "0                       0.0  \n",
       "1                       0.0  \n",
       "2                       0.0  \n",
       "3                       0.0  \n",
       "5                       0.0  \n",
       "...                     ...  \n",
       "39712                   NaN  \n",
       "39713                   NaN  \n",
       "39714                   NaN  \n",
       "39715                   NaN  \n",
       "39716                   NaN  \n",
       "\n",
       "[38577 rows x 22 columns]"
      ]
     },
     "execution_count": 693,
     "metadata": {},
     "output_type": "execute_result"
    }
   ],
   "source": [
    "# Example most of the columns values is 1.Deletting them as well.\n",
    "for column in loan_df.columns:\n",
    "    if loan_df[column].nunique(dropna=True) == 1:\n",
    "        print(column)\n",
    "        loan_df = loan_df.drop(column, axis=1)\n",
    "print(\"-------------\")\n",
    "loan_df"
   ]
  },
  {
   "cell_type": "code",
   "execution_count": 694,
   "id": "57aca429",
   "metadata": {
    "id": "57aca429"
   },
   "outputs": [
    {
     "name": "stdout",
     "output_type": "stream",
     "text": [
      "mths_since_last_delinq\n",
      "mths_since_last_record\n"
     ]
    },
    {
     "data": {
      "text/plain": [
       "(38577, 20)"
      ]
     },
     "execution_count": 694,
     "metadata": {},
     "output_type": "execute_result"
    }
   ],
   "source": [
    "#Dropping the columns which is having more than 50% of value is null.\n",
    "total_rows = len(loan_df)\n",
    "for column in loan_df.columns:\n",
    "    if loan_df[column].isna().mean().round(2) >= 0.50:\n",
    "        print(column)\n",
    "        loan_df = loan_df.drop(column, axis=1)\n",
    "loan_df.shape"
   ]
  },
  {
   "cell_type": "code",
   "execution_count": 695,
   "id": "74fb9830",
   "metadata": {
    "id": "74fb9830"
   },
   "outputs": [],
   "source": [
    "#Deleting emp_title as its description or textual informations and doesn't participate in EDA analysis.\n",
    "loan_df=loan_df.drop(['emp_title'], axis=1)\n"
   ]
  },
  {
   "cell_type": "markdown",
   "id": "5748f33e",
   "metadata": {
    "id": "5748f33e"
   },
   "source": [
    "##  2. Data Conversion"
   ]
  },
  {
   "cell_type": "code",
   "execution_count": 697,
   "id": "e74d7d64",
   "metadata": {
    "id": "e74d7d64"
   },
   "outputs": [
    {
     "data": {
      "text/plain": [
       "id                        int64\n",
       "loan_amnt                 int64\n",
       "funded_amnt               int64\n",
       "funded_amnt_inv         float64\n",
       "term                     object\n",
       "int_rate                 object\n",
       "installment             float64\n",
       "grade                    object\n",
       "emp_length               object\n",
       "home_ownership           object\n",
       "annual_inc              float64\n",
       "verification_status      object\n",
       "issue_d                  object\n",
       "loan_status              object\n",
       "purpose                  object\n",
       "zip_code                 object\n",
       "addr_state               object\n",
       "dti                     float64\n",
       "pub_rec_bankruptcies    float64\n",
       "dtype: object"
      ]
     },
     "execution_count": 697,
     "metadata": {},
     "output_type": "execute_result"
    }
   ],
   "source": [
    "loan_df.dtypes\n"
   ]
  },
  {
   "cell_type": "code",
   "execution_count": 698,
   "id": "9e14ac62",
   "metadata": {
    "id": "9e14ac62"
   },
   "outputs": [
    {
     "data": {
      "text/plain": [
       "term\n",
       "36 months    29096\n",
       "60 months     9481\n",
       "Name: count, dtype: int64"
      ]
     },
     "execution_count": 698,
     "metadata": {},
     "output_type": "execute_result"
    }
   ],
   "source": [
    "loan_df['term'].value_counts()"
   ]
  },
  {
   "cell_type": "code",
   "execution_count": 699,
   "id": "4d0c186d",
   "metadata": {
    "id": "4d0c186d",
    "scrolled": true
   },
   "outputs": [
    {
     "data": {
      "text/plain": [
       "dtype('int64')"
      ]
     },
     "execution_count": 699,
     "metadata": {},
     "output_type": "execute_result"
    }
   ],
   "source": [
    "# Convert term from string to int.\n",
    "def clean_term(term):\n",
    "    return int(term.strip().split()[0])\n",
    "\n",
    "loan_df['term'] = loan_df['term'].apply(clean_term) ## removing the string parts of int value\n",
    "loan_df['term'].dtype"
   ]
  },
  {
   "cell_type": "code",
   "execution_count": 700,
   "id": "9a7357df",
   "metadata": {
    "colab": {
     "base_uri": "https://localhost:8080/"
    },
    "id": "9a7357df",
    "outputId": "aadda7cd-5b6b-4a45-f5f4-4b0f2909fa5b"
   },
   "outputs": [
    {
     "data": {
      "text/plain": [
       "term\n",
       "36    29096\n",
       "60     9481\n",
       "Name: count, dtype: int64"
      ]
     },
     "execution_count": 700,
     "metadata": {},
     "output_type": "execute_result"
    }
   ],
   "source": [
    "loan_df['term'].value_counts()"
   ]
  },
  {
   "cell_type": "code",
   "execution_count": 701,
   "id": "9f726433",
   "metadata": {
    "id": "9f726433"
   },
   "outputs": [
    {
     "data": {
      "text/plain": [
       "int_rate\n",
       "10.99%    913\n",
       "11.49%    790\n",
       "7.51%     787\n",
       "13.49%    749\n",
       "7.88%     725\n",
       "         ... \n",
       "16.96%      1\n",
       "18.36%      1\n",
       "16.15%      1\n",
       "16.01%      1\n",
       "16.20%      1\n",
       "Name: count, Length: 370, dtype: int64"
      ]
     },
     "execution_count": 701,
     "metadata": {},
     "output_type": "execute_result"
    }
   ],
   "source": [
    "\n",
    "loan_df['int_rate'].value_counts()\n"
   ]
  },
  {
   "cell_type": "code",
   "execution_count": 702,
   "id": "5c8566bd",
   "metadata": {
    "id": "5c8566bd"
   },
   "outputs": [],
   "source": [
    "# Convert int_rate fromns tring to float.\n",
    "loan_df['int_rate']=loan_df['int_rate'].str.strip('%').astype(float)\n"
   ]
  },
  {
   "cell_type": "code",
   "execution_count": 703,
   "id": "92e093d0",
   "metadata": {
    "id": "92e093d0"
   },
   "outputs": [
    {
     "data": {
      "text/plain": [
       "int_rate\n",
       "10.99    913\n",
       "11.49    790\n",
       "7.51     787\n",
       "13.49    749\n",
       "7.88     725\n",
       "        ... \n",
       "16.96      1\n",
       "18.36      1\n",
       "16.15      1\n",
       "16.01      1\n",
       "16.20      1\n",
       "Name: count, Length: 370, dtype: int64"
      ]
     },
     "execution_count": 703,
     "metadata": {},
     "output_type": "execute_result"
    }
   ],
   "source": [
    "loan_df['int_rate'].value_counts()"
   ]
  },
  {
   "cell_type": "code",
   "execution_count": 704,
   "id": "07f538ed",
   "metadata": {
    "id": "07f538ed"
   },
   "outputs": [
    {
     "data": {
      "text/html": [
       "<div>\n",
       "<style scoped>\n",
       "    .dataframe tbody tr th:only-of-type {\n",
       "        vertical-align: middle;\n",
       "    }\n",
       "\n",
       "    .dataframe tbody tr th {\n",
       "        vertical-align: top;\n",
       "    }\n",
       "\n",
       "    .dataframe thead th {\n",
       "        text-align: right;\n",
       "    }\n",
       "</style>\n",
       "<table border=\"1\" class=\"dataframe\">\n",
       "  <thead>\n",
       "    <tr style=\"text-align: right;\">\n",
       "      <th></th>\n",
       "      <th>id</th>\n",
       "      <th>loan_amnt</th>\n",
       "      <th>funded_amnt</th>\n",
       "      <th>funded_amnt_inv</th>\n",
       "      <th>term</th>\n",
       "      <th>int_rate</th>\n",
       "      <th>installment</th>\n",
       "      <th>grade</th>\n",
       "      <th>emp_length</th>\n",
       "      <th>home_ownership</th>\n",
       "      <th>annual_inc</th>\n",
       "      <th>verification_status</th>\n",
       "      <th>issue_d</th>\n",
       "      <th>loan_status</th>\n",
       "      <th>purpose</th>\n",
       "      <th>zip_code</th>\n",
       "      <th>addr_state</th>\n",
       "      <th>dti</th>\n",
       "      <th>pub_rec_bankruptcies</th>\n",
       "    </tr>\n",
       "  </thead>\n",
       "  <tbody>\n",
       "    <tr>\n",
       "      <th>0</th>\n",
       "      <td>1077501</td>\n",
       "      <td>5000.0</td>\n",
       "      <td>5000.0</td>\n",
       "      <td>4975.0</td>\n",
       "      <td>36</td>\n",
       "      <td>10.65</td>\n",
       "      <td>162.87</td>\n",
       "      <td>B</td>\n",
       "      <td>10+ years</td>\n",
       "      <td>RENT</td>\n",
       "      <td>24000.0</td>\n",
       "      <td>Verified</td>\n",
       "      <td>Dec-11</td>\n",
       "      <td>Fully Paid</td>\n",
       "      <td>credit_card</td>\n",
       "      <td>860xx</td>\n",
       "      <td>AZ</td>\n",
       "      <td>27.65</td>\n",
       "      <td>0.0</td>\n",
       "    </tr>\n",
       "    <tr>\n",
       "      <th>1</th>\n",
       "      <td>1077430</td>\n",
       "      <td>2500.0</td>\n",
       "      <td>2500.0</td>\n",
       "      <td>2500.0</td>\n",
       "      <td>60</td>\n",
       "      <td>15.27</td>\n",
       "      <td>59.83</td>\n",
       "      <td>C</td>\n",
       "      <td>&lt; 1 year</td>\n",
       "      <td>RENT</td>\n",
       "      <td>30000.0</td>\n",
       "      <td>Source Verified</td>\n",
       "      <td>Dec-11</td>\n",
       "      <td>Charged Off</td>\n",
       "      <td>car</td>\n",
       "      <td>309xx</td>\n",
       "      <td>GA</td>\n",
       "      <td>1.00</td>\n",
       "      <td>0.0</td>\n",
       "    </tr>\n",
       "    <tr>\n",
       "      <th>2</th>\n",
       "      <td>1077175</td>\n",
       "      <td>2400.0</td>\n",
       "      <td>2400.0</td>\n",
       "      <td>2400.0</td>\n",
       "      <td>36</td>\n",
       "      <td>15.96</td>\n",
       "      <td>84.33</td>\n",
       "      <td>C</td>\n",
       "      <td>10+ years</td>\n",
       "      <td>RENT</td>\n",
       "      <td>12252.0</td>\n",
       "      <td>Not Verified</td>\n",
       "      <td>Dec-11</td>\n",
       "      <td>Fully Paid</td>\n",
       "      <td>small_business</td>\n",
       "      <td>606xx</td>\n",
       "      <td>IL</td>\n",
       "      <td>8.72</td>\n",
       "      <td>0.0</td>\n",
       "    </tr>\n",
       "    <tr>\n",
       "      <th>3</th>\n",
       "      <td>1076863</td>\n",
       "      <td>10000.0</td>\n",
       "      <td>10000.0</td>\n",
       "      <td>10000.0</td>\n",
       "      <td>36</td>\n",
       "      <td>13.49</td>\n",
       "      <td>339.31</td>\n",
       "      <td>C</td>\n",
       "      <td>10+ years</td>\n",
       "      <td>RENT</td>\n",
       "      <td>49200.0</td>\n",
       "      <td>Source Verified</td>\n",
       "      <td>Dec-11</td>\n",
       "      <td>Fully Paid</td>\n",
       "      <td>other</td>\n",
       "      <td>917xx</td>\n",
       "      <td>CA</td>\n",
       "      <td>20.00</td>\n",
       "      <td>0.0</td>\n",
       "    </tr>\n",
       "    <tr>\n",
       "      <th>5</th>\n",
       "      <td>1075269</td>\n",
       "      <td>5000.0</td>\n",
       "      <td>5000.0</td>\n",
       "      <td>5000.0</td>\n",
       "      <td>36</td>\n",
       "      <td>7.90</td>\n",
       "      <td>156.46</td>\n",
       "      <td>A</td>\n",
       "      <td>3 years</td>\n",
       "      <td>RENT</td>\n",
       "      <td>36000.0</td>\n",
       "      <td>Source Verified</td>\n",
       "      <td>Dec-11</td>\n",
       "      <td>Fully Paid</td>\n",
       "      <td>wedding</td>\n",
       "      <td>852xx</td>\n",
       "      <td>AZ</td>\n",
       "      <td>11.20</td>\n",
       "      <td>0.0</td>\n",
       "    </tr>\n",
       "    <tr>\n",
       "      <th>...</th>\n",
       "      <td>...</td>\n",
       "      <td>...</td>\n",
       "      <td>...</td>\n",
       "      <td>...</td>\n",
       "      <td>...</td>\n",
       "      <td>...</td>\n",
       "      <td>...</td>\n",
       "      <td>...</td>\n",
       "      <td>...</td>\n",
       "      <td>...</td>\n",
       "      <td>...</td>\n",
       "      <td>...</td>\n",
       "      <td>...</td>\n",
       "      <td>...</td>\n",
       "      <td>...</td>\n",
       "      <td>...</td>\n",
       "      <td>...</td>\n",
       "      <td>...</td>\n",
       "      <td>...</td>\n",
       "    </tr>\n",
       "    <tr>\n",
       "      <th>39712</th>\n",
       "      <td>92187</td>\n",
       "      <td>2500.0</td>\n",
       "      <td>2500.0</td>\n",
       "      <td>1075.0</td>\n",
       "      <td>36</td>\n",
       "      <td>8.07</td>\n",
       "      <td>78.42</td>\n",
       "      <td>A</td>\n",
       "      <td>4 years</td>\n",
       "      <td>MORTGAGE</td>\n",
       "      <td>110000.0</td>\n",
       "      <td>Not Verified</td>\n",
       "      <td>Jul-07</td>\n",
       "      <td>Fully Paid</td>\n",
       "      <td>home_improvement</td>\n",
       "      <td>802xx</td>\n",
       "      <td>CO</td>\n",
       "      <td>11.33</td>\n",
       "      <td>NaN</td>\n",
       "    </tr>\n",
       "    <tr>\n",
       "      <th>39713</th>\n",
       "      <td>90665</td>\n",
       "      <td>8500.0</td>\n",
       "      <td>8500.0</td>\n",
       "      <td>875.0</td>\n",
       "      <td>36</td>\n",
       "      <td>10.28</td>\n",
       "      <td>275.38</td>\n",
       "      <td>C</td>\n",
       "      <td>3 years</td>\n",
       "      <td>RENT</td>\n",
       "      <td>18000.0</td>\n",
       "      <td>Not Verified</td>\n",
       "      <td>Jul-07</td>\n",
       "      <td>Fully Paid</td>\n",
       "      <td>credit_card</td>\n",
       "      <td>274xx</td>\n",
       "      <td>NC</td>\n",
       "      <td>6.40</td>\n",
       "      <td>NaN</td>\n",
       "    </tr>\n",
       "    <tr>\n",
       "      <th>39714</th>\n",
       "      <td>90395</td>\n",
       "      <td>5000.0</td>\n",
       "      <td>5000.0</td>\n",
       "      <td>1325.0</td>\n",
       "      <td>36</td>\n",
       "      <td>8.07</td>\n",
       "      <td>156.84</td>\n",
       "      <td>A</td>\n",
       "      <td>&lt; 1 year</td>\n",
       "      <td>MORTGAGE</td>\n",
       "      <td>100000.0</td>\n",
       "      <td>Not Verified</td>\n",
       "      <td>Jul-07</td>\n",
       "      <td>Fully Paid</td>\n",
       "      <td>debt_consolidation</td>\n",
       "      <td>017xx</td>\n",
       "      <td>MA</td>\n",
       "      <td>2.30</td>\n",
       "      <td>NaN</td>\n",
       "    </tr>\n",
       "    <tr>\n",
       "      <th>39715</th>\n",
       "      <td>90376</td>\n",
       "      <td>5000.0</td>\n",
       "      <td>5000.0</td>\n",
       "      <td>650.0</td>\n",
       "      <td>36</td>\n",
       "      <td>7.43</td>\n",
       "      <td>155.38</td>\n",
       "      <td>A</td>\n",
       "      <td>&lt; 1 year</td>\n",
       "      <td>MORTGAGE</td>\n",
       "      <td>200000.0</td>\n",
       "      <td>Not Verified</td>\n",
       "      <td>Jul-07</td>\n",
       "      <td>Fully Paid</td>\n",
       "      <td>other</td>\n",
       "      <td>208xx</td>\n",
       "      <td>MD</td>\n",
       "      <td>3.72</td>\n",
       "      <td>NaN</td>\n",
       "    </tr>\n",
       "    <tr>\n",
       "      <th>39716</th>\n",
       "      <td>87023</td>\n",
       "      <td>7500.0</td>\n",
       "      <td>7500.0</td>\n",
       "      <td>800.0</td>\n",
       "      <td>36</td>\n",
       "      <td>13.75</td>\n",
       "      <td>255.43</td>\n",
       "      <td>E</td>\n",
       "      <td>&lt; 1 year</td>\n",
       "      <td>OWN</td>\n",
       "      <td>22000.0</td>\n",
       "      <td>Not Verified</td>\n",
       "      <td>Jun-07</td>\n",
       "      <td>Fully Paid</td>\n",
       "      <td>debt_consolidation</td>\n",
       "      <td>027xx</td>\n",
       "      <td>MA</td>\n",
       "      <td>14.29</td>\n",
       "      <td>NaN</td>\n",
       "    </tr>\n",
       "  </tbody>\n",
       "</table>\n",
       "<p>38577 rows × 19 columns</p>\n",
       "</div>"
      ],
      "text/plain": [
       "            id  loan_amnt  funded_amnt  funded_amnt_inv  term  int_rate  \\\n",
       "0      1077501     5000.0       5000.0           4975.0    36     10.65   \n",
       "1      1077430     2500.0       2500.0           2500.0    60     15.27   \n",
       "2      1077175     2400.0       2400.0           2400.0    36     15.96   \n",
       "3      1076863    10000.0      10000.0          10000.0    36     13.49   \n",
       "5      1075269     5000.0       5000.0           5000.0    36      7.90   \n",
       "...        ...        ...          ...              ...   ...       ...   \n",
       "39712    92187     2500.0       2500.0           1075.0    36      8.07   \n",
       "39713    90665     8500.0       8500.0            875.0    36     10.28   \n",
       "39714    90395     5000.0       5000.0           1325.0    36      8.07   \n",
       "39715    90376     5000.0       5000.0            650.0    36      7.43   \n",
       "39716    87023     7500.0       7500.0            800.0    36     13.75   \n",
       "\n",
       "       installment grade emp_length home_ownership  annual_inc  \\\n",
       "0           162.87     B  10+ years           RENT     24000.0   \n",
       "1            59.83     C   < 1 year           RENT     30000.0   \n",
       "2            84.33     C  10+ years           RENT     12252.0   \n",
       "3           339.31     C  10+ years           RENT     49200.0   \n",
       "5           156.46     A    3 years           RENT     36000.0   \n",
       "...            ...   ...        ...            ...         ...   \n",
       "39712        78.42     A    4 years       MORTGAGE    110000.0   \n",
       "39713       275.38     C    3 years           RENT     18000.0   \n",
       "39714       156.84     A   < 1 year       MORTGAGE    100000.0   \n",
       "39715       155.38     A   < 1 year       MORTGAGE    200000.0   \n",
       "39716       255.43     E   < 1 year            OWN     22000.0   \n",
       "\n",
       "      verification_status issue_d  loan_status             purpose zip_code  \\\n",
       "0                Verified  Dec-11   Fully Paid         credit_card    860xx   \n",
       "1         Source Verified  Dec-11  Charged Off                 car    309xx   \n",
       "2            Not Verified  Dec-11   Fully Paid      small_business    606xx   \n",
       "3         Source Verified  Dec-11   Fully Paid               other    917xx   \n",
       "5         Source Verified  Dec-11   Fully Paid             wedding    852xx   \n",
       "...                   ...     ...          ...                 ...      ...   \n",
       "39712        Not Verified  Jul-07   Fully Paid    home_improvement    802xx   \n",
       "39713        Not Verified  Jul-07   Fully Paid         credit_card    274xx   \n",
       "39714        Not Verified  Jul-07   Fully Paid  debt_consolidation    017xx   \n",
       "39715        Not Verified  Jul-07   Fully Paid               other    208xx   \n",
       "39716        Not Verified  Jun-07   Fully Paid  debt_consolidation    027xx   \n",
       "\n",
       "      addr_state    dti  pub_rec_bankruptcies  \n",
       "0             AZ  27.65                   0.0  \n",
       "1             GA   1.00                   0.0  \n",
       "2             IL   8.72                   0.0  \n",
       "3             CA  20.00                   0.0  \n",
       "5             AZ  11.20                   0.0  \n",
       "...          ...    ...                   ...  \n",
       "39712         CO  11.33                   NaN  \n",
       "39713         NC   6.40                   NaN  \n",
       "39714         MA   2.30                   NaN  \n",
       "39715         MD   3.72                   NaN  \n",
       "39716         MA  14.29                   NaN  \n",
       "\n",
       "[38577 rows x 19 columns]"
      ]
     },
     "execution_count": 704,
     "metadata": {},
     "output_type": "execute_result"
    }
   ],
   "source": [
    "# Convert the column loan_funded_amnt and funded_amnt as flot64\n",
    "loan_df = loan_df.astype({'loan_amnt':'float','funded_amnt':'float'})\n",
    "loan_df"
   ]
  },
  {
   "cell_type": "code",
   "execution_count": 705,
   "id": "018aa049",
   "metadata": {
    "id": "018aa049"
   },
   "outputs": [
    {
     "data": {
      "text/plain": [
       "grade\n",
       "B    11675\n",
       "A    10045\n",
       "C     7834\n",
       "D     5085\n",
       "E     2663\n",
       "F      976\n",
       "G      299\n",
       "Name: count, dtype: int64"
      ]
     },
     "execution_count": 705,
     "metadata": {},
     "output_type": "execute_result"
    }
   ],
   "source": [
    "# check grade dattype.\n",
    "loan_df['grade'].value_counts()"
   ]
  },
  {
   "cell_type": "code",
   "execution_count": 706,
   "id": "d73b2eff",
   "metadata": {
    "colab": {
     "base_uri": "https://localhost:8080/"
    },
    "id": "d73b2eff",
    "outputId": "5d46f004-e851-4911-f45e-dc3dcb283500"
   },
   "outputs": [
    {
     "data": {
      "text/plain": [
       "emp_length\n",
       "10+ years    8488\n",
       "< 1 year     4508\n",
       "2 years      4291\n",
       "3 years      4012\n",
       "4 years      3342\n",
       "5 years      3194\n",
       "1 year       3169\n",
       "6 years      2168\n",
       "7 years      1711\n",
       "8 years      1435\n",
       "9 years      1226\n",
       "Name: count, dtype: int64"
      ]
     },
     "execution_count": 706,
     "metadata": {},
     "output_type": "execute_result"
    }
   ],
   "source": [
    "loan_df['emp_length'].value_counts()"
   ]
  },
  {
   "cell_type": "code",
   "execution_count": 707,
   "id": "943c2df5",
   "metadata": {
    "id": "943c2df5"
   },
   "outputs": [
    {
     "name": "stdout",
     "output_type": "stream",
     "text": [
      "0         5000.0\n",
      "1         2500.0\n",
      "2         2400.0\n",
      "3        10000.0\n",
      "5         5000.0\n",
      "          ...   \n",
      "39712     2500.0\n",
      "39713     8500.0\n",
      "39714     5000.0\n",
      "39715     5000.0\n",
      "39716     7500.0\n",
      "Name: loan_amnt, Length: 38577, dtype: float64\n",
      "0         5000.0\n",
      "1         2500.0\n",
      "2         2400.0\n",
      "3        10000.0\n",
      "5         5000.0\n",
      "          ...   \n",
      "39712     2500.0\n",
      "39713     8500.0\n",
      "39714     5000.0\n",
      "39715     5000.0\n",
      "39716     7500.0\n",
      "Name: funded_amnt, Length: 38577, dtype: float64\n",
      "0         4975.0\n",
      "1         2500.0\n",
      "2         2400.0\n",
      "3        10000.0\n",
      "5         5000.0\n",
      "          ...   \n",
      "39712     1075.0\n",
      "39713      875.0\n",
      "39714     1325.0\n",
      "39715      650.0\n",
      "39716      800.0\n",
      "Name: funded_amnt_inv, Length: 38577, dtype: float64\n",
      "0        10.65\n",
      "1        15.27\n",
      "2        15.96\n",
      "3        13.49\n",
      "5         7.90\n",
      "         ...  \n",
      "39712     8.07\n",
      "39713    10.28\n",
      "39714     8.07\n",
      "39715     7.43\n",
      "39716    13.75\n",
      "Name: int_rate, Length: 38577, dtype: float64\n",
      "0        27.65\n",
      "1         1.00\n",
      "2         8.72\n",
      "3        20.00\n",
      "5        11.20\n",
      "         ...  \n",
      "39712    11.33\n",
      "39713     6.40\n",
      "39714     2.30\n",
      "39715     3.72\n",
      "39716    14.29\n",
      "Name: dti, Length: 38577, dtype: float64\n"
     ]
    }
   ],
   "source": [
    "# Rounding off the belows to two decimals points.\n",
    "for c in ['loan_amnt', 'funded_amnt', 'funded_amnt_inv', 'int_rate', 'dti']:\n",
    "    loan_df[c] = loan_df[c].apply(lambda x: round(x,2))\n",
    "    print(loan_df[c])\n"
   ]
  },
  {
   "cell_type": "code",
   "execution_count": 708,
   "id": "4cdb2dc3",
   "metadata": {
    "id": "4cdb2dc3"
   },
   "outputs": [
    {
     "data": {
      "text/plain": [
       "0       2011-12-01\n",
       "1       2011-12-01\n",
       "2       2011-12-01\n",
       "3       2011-12-01\n",
       "5       2011-12-01\n",
       "           ...    \n",
       "39712   2007-07-01\n",
       "39713   2007-07-01\n",
       "39714   2007-07-01\n",
       "39715   2007-07-01\n",
       "39716   2007-06-01\n",
       "Name: issue_d, Length: 38577, dtype: datetime64[ns]"
      ]
     },
     "execution_count": 708,
     "metadata": {},
     "output_type": "execute_result"
    }
   ],
   "source": [
    "#converting issue_d`to date type\n",
    "loan_df['issue_d'] = pd.to_datetime(loan_df.issue_d, format='%b-%y')\n",
    "loan_df['issue_d']"
   ]
  },
  {
   "cell_type": "code",
   "execution_count": 709,
   "id": "24e540f2",
   "metadata": {
    "id": "24e540f2",
    "scrolled": true
   },
   "outputs": [
    {
     "data": {
      "text/plain": [
       "id                      0.000000\n",
       "loan_amnt               0.000000\n",
       "funded_amnt             0.000000\n",
       "funded_amnt_inv         0.000000\n",
       "term                    0.000000\n",
       "int_rate                0.000000\n",
       "installment             0.000000\n",
       "grade                   0.000000\n",
       "emp_length              2.677761\n",
       "home_ownership          0.000000\n",
       "annual_inc              0.000000\n",
       "verification_status     0.000000\n",
       "issue_d                 0.000000\n",
       "loan_status             0.000000\n",
       "purpose                 0.000000\n",
       "zip_code                0.000000\n",
       "addr_state              0.000000\n",
       "dti                     0.000000\n",
       "pub_rec_bankruptcies    1.806776\n",
       "dtype: float64"
      ]
     },
     "execution_count": 709,
     "metadata": {},
     "output_type": "execute_result"
    }
   ],
   "source": [
    "(loan_df.isnull().sum()*100)/len(loan_df)"
   ]
  },
  {
   "cell_type": "markdown",
   "id": "f43c7ec1",
   "metadata": {
    "id": "f43c7ec1"
   },
   "source": [
    "## 3. Dropping/ Imputing the rows.\n"
   ]
  },
  {
   "cell_type": "code",
   "execution_count": 711,
   "id": "0f0f94e5",
   "metadata": {
    "id": "0f0f94e5"
   },
   "outputs": [
    {
     "data": {
      "text/plain": [
       "38577"
      ]
     },
     "execution_count": 711,
     "metadata": {},
     "output_type": "execute_result"
    }
   ],
   "source": [
    "# Dropping the null rows for emp_length and pub_rec_bankruptcies columns as number of null rows are very less.\n",
    "prev_rows=len(loan_df)\n",
    "prev_rows"
   ]
  },
  {
   "cell_type": "code",
   "execution_count": 712,
   "id": "bbe97e81",
   "metadata": {
    "id": "bbe97e81"
   },
   "outputs": [],
   "source": [
    "loan_df= loan_df[loan_df['emp_length'].notna()]\n",
    "loan_df= loan_df[loan_df['pub_rec_bankruptcies'].notna()]"
   ]
  },
  {
   "cell_type": "code",
   "execution_count": 713,
   "id": "673cd3b5",
   "metadata": {
    "id": "673cd3b5"
   },
   "outputs": [
    {
     "name": "stdout",
     "output_type": "stream",
     "text": [
      "Total % of rows deleted: 4.48\n",
      "(36847, 19)\n"
     ]
    }
   ],
   "source": [
    "after_rows=len(loan_df)\n",
    "total_deleted=((prev_rows-after_rows)*100)/prev_rows\n",
    "print(\"Total % of rows deleted:\",round(total_deleted,2))\n",
    "print(loan_df.shape)"
   ]
  },
  {
   "cell_type": "code",
   "execution_count": 714,
   "id": "51daede5",
   "metadata": {
    "id": "51daede5"
   },
   "outputs": [
    {
     "data": {
      "text/plain": [
       "id                      0.0\n",
       "loan_amnt               0.0\n",
       "funded_amnt             0.0\n",
       "funded_amnt_inv         0.0\n",
       "term                    0.0\n",
       "int_rate                0.0\n",
       "installment             0.0\n",
       "grade                   0.0\n",
       "emp_length              0.0\n",
       "home_ownership          0.0\n",
       "annual_inc              0.0\n",
       "verification_status     0.0\n",
       "issue_d                 0.0\n",
       "loan_status             0.0\n",
       "purpose                 0.0\n",
       "zip_code                0.0\n",
       "addr_state              0.0\n",
       "dti                     0.0\n",
       "pub_rec_bankruptcies    0.0\n",
       "dtype: float64"
      ]
     },
     "execution_count": 714,
     "metadata": {},
     "output_type": "execute_result"
    }
   ],
   "source": [
    "(loan_df.isnull().sum()*100)/len(loan_df) # so no na any mmore"
   ]
  },
  {
   "cell_type": "code",
   "execution_count": 715,
   "id": "1KhxWRvCyjeI",
   "metadata": {
    "id": "1KhxWRvCyjeI"
   },
   "outputs": [],
   "source": [
    "def strip_emp_length(x):\n",
    "  x=x.strip(\"years\")\n",
    "  x=x.strip(\"<\")\n",
    "  x=x.replace(\" \", \"\")\n",
    "  x=x.replace(\"+\", \"\")\n",
    "  return x\n",
    "\n",
    "loan_df['emp_length']=loan_df['emp_length'].apply(lambda x : strip_emp_length(x) )"
   ]
  },
  {
   "cell_type": "code",
   "execution_count": 716,
   "id": "pGRXQY05zbLW",
   "metadata": {
    "colab": {
     "base_uri": "https://localhost:8080/"
    },
    "id": "pGRXQY05zbLW",
    "outputId": "48f8215c-c47c-4bb9-f4aa-98381cdc6645"
   },
   "outputs": [
    {
     "name": "stdout",
     "output_type": "stream",
     "text": [
      "0        10\n",
      "1         1\n",
      "2        10\n",
      "3        10\n",
      "5         3\n",
      "         ..\n",
      "39562     1\n",
      "39573     3\n",
      "39623     8\n",
      "39666     2\n",
      "39680     2\n",
      "Name: emp_length, Length: 36847, dtype: object\n",
      "<class 'pandas.core.frame.DataFrame'>\n",
      "Index: 36847 entries, 0 to 39680\n",
      "Data columns (total 19 columns):\n",
      " #   Column                Non-Null Count  Dtype         \n",
      "---  ------                --------------  -----         \n",
      " 0   id                    36847 non-null  int64         \n",
      " 1   loan_amnt             36847 non-null  float64       \n",
      " 2   funded_amnt           36847 non-null  float64       \n",
      " 3   funded_amnt_inv       36847 non-null  float64       \n",
      " 4   term                  36847 non-null  int64         \n",
      " 5   int_rate              36847 non-null  float64       \n",
      " 6   installment           36847 non-null  float64       \n",
      " 7   grade                 36847 non-null  object        \n",
      " 8   emp_length            36847 non-null  object        \n",
      " 9   home_ownership        36847 non-null  object        \n",
      " 10  annual_inc            36847 non-null  float64       \n",
      " 11  verification_status   36847 non-null  object        \n",
      " 12  issue_d               36847 non-null  datetime64[ns]\n",
      " 13  loan_status           36847 non-null  object        \n",
      " 14  purpose               36847 non-null  object        \n",
      " 15  zip_code              36847 non-null  object        \n",
      " 16  addr_state            36847 non-null  object        \n",
      " 17  dti                   36847 non-null  float64       \n",
      " 18  pub_rec_bankruptcies  36847 non-null  float64       \n",
      "dtypes: datetime64[ns](1), float64(8), int64(2), object(8)\n",
      "memory usage: 5.6+ MB\n"
     ]
    }
   ],
   "source": [
    "print(loan_df['emp_length'])\n",
    "loan_df.info()"
   ]
  },
  {
   "cell_type": "markdown",
   "id": "d6ab80a8",
   "metadata": {
    "id": "d6ab80a8"
   },
   "source": [
    "## 4. Derived Columns"
   ]
  },
  {
   "cell_type": "code",
   "execution_count": 718,
   "id": "32c594f5",
   "metadata": {
    "id": "32c594f5"
   },
   "outputs": [],
   "source": [
    "# Creating a dervied columns for issue month and issue year from issues date\n",
    "loan_df['issue_year']=pd.DatetimeIndex(loan_df['issue_d']).year\n",
    "loan_df['issue_month']=pd.DatetimeIndex(loan_df['issue_d']).month"
   ]
  },
  {
   "cell_type": "code",
   "execution_count": 719,
   "id": "e77e11b7",
   "metadata": {
    "id": "e77e11b7"
   },
   "outputs": [
    {
     "name": "stdout",
     "output_type": "stream",
     "text": [
      "(36847, 21)\n",
      "count    36847.000000\n",
      "mean     11141.327652\n",
      "std       7369.988994\n",
      "min        500.000000\n",
      "25%       5500.000000\n",
      "50%      10000.000000\n",
      "75%      15000.000000\n",
      "max      35000.000000\n",
      "Name: loan_amnt, dtype: float64\n"
     ]
    },
    {
     "data": {
      "text/plain": [
       "<Axes: >"
      ]
     },
     "execution_count": 719,
     "metadata": {},
     "output_type": "execute_result"
    },
    {
     "data": {
      "image/png": "[encoded data removed]",
      "text/plain": [
       "<Figure size 640x480 with 1 Axes>"
      ]
     },
     "metadata": {},
     "output_type": "display_data"
    }
   ],
   "source": [
    "print(loan_df.shape)\n",
    "print(loan_df[\"loan_amnt\"].describe())\n",
    "loan_df['loan_amnt'].plot(kind='box')"
   ]
  },
  {
   "cell_type": "markdown",
   "id": "6U3au6swtxkQ",
   "metadata": {
    "id": "6U3au6swtxkQ"
   },
   "source": [
    "## 5. Univariate Analysis"
   ]
  },
  {
   "cell_type": "code",
   "execution_count": 721,
   "id": "DsOB5q9AvMYB",
   "metadata": {
    "id": "DsOB5q9AvMYB"
   },
   "outputs": [],
   "source": [
    "# Column metadata used by functions below\n",
    "column_titles = {\n",
    "    'loan_amnt': 'Loan Amount',\n",
    "    'funded_amnt': 'Funded Amount',\n",
    "    'funded_amnt_inv': 'Funded Amount Investors',\n",
    "    'term': 'Loan Term',\n",
    "    'int_rate': 'Interest Rate',\n",
    "    'installment': 'Installment',\n",
    "    'grade': 'Grade',\n",
    "    'emp_length': 'Employment Length',\n",
    "    'home_ownership': 'Home Owner Status',\n",
    "    'annual_inc': 'Annual Income',\n",
    "    'verification_status': 'Verification Status',\n",
    "    'issue_d': 'Issue Date',\n",
    "    'loan_status': 'Loan Status',\n",
    "    'purpose': 'Purpose of Loan',\n",
    "    'addr_state': 'State',\n",
    "    'dti': 'Debt To Income Ratio',\n",
    "    'pub_rec_bankruptcies': 'Bankruptcies Record',\n",
    "    'issue_y': 'Issue Year',\n",
    "    'issue_m': 'Issue Month',\n",
    "    'issue_q': 'Issue Quarter',\n",
    "    'loan_amnt_b': 'Loan Amount Bins',\n",
    "    'funded_amnt_inv_b': 'Investor Funded Bins',\n",
    "    'funded_amnt_b': 'Funded Amount Bins',\n",
    "    'annual_inc_b': 'Annual Income Bins',\n",
    "    'int_rate_b': 'Interest Rate Bins',\n",
    "    'dti_b': 'DTI Bins'\n",
    "}"
   ]
  },
  {
   "cell_type": "code",
   "execution_count": 722,
   "id": "7CPm7b6FIEsD",
   "metadata": {
    "id": "7CPm7b6FIEsD"
   },
   "outputs": [],
   "source": [
    "#Bucketing different varaibles for better analysis"
   ]
  },
  {
   "cell_type": "code",
   "execution_count": 723,
   "id": "ir4BVfneaQi4",
   "metadata": {
    "id": "ir4BVfneaQi4"
   },
   "outputs": [],
   "source": [
    "# Bucketting Loan Amount\n",
    "def bucket_loan_amnt(column):\n",
    "    if column <= 5000:\n",
    "        return '0 - 5K'  # 25% quartile\n",
    "    elif (column >5000) and (column <= 10000):\n",
    "        return '5K - 10K'\n",
    "    elif (column >10000) and (column <= 15000):\n",
    "        return '10K - 15K'\n",
    "    else:\n",
    "        return '15K - above' # 75% quartile\n",
    "\n",
    "loan_df['loan_amnt_b'] = loan_df.apply(lambda x : bucket_loan_amnt(x['loan_amnt']), axis = 1)"
   ]
  },
  {
   "cell_type": "code",
   "execution_count": 724,
   "id": "ACT7KNhkDcl1",
   "metadata": {
    "id": "ACT7KNhkDcl1"
   },
   "outputs": [],
   "source": [
    "#Bucketing Annual Income\n",
    "def bucket_annual_inc(column):\n",
    "    if column <= 40000:\n",
    "        return '0 - 40k' # 25% quartile\n",
    "    elif (column >40000) and (column <= 50000):\n",
    "        return '40k - 50k'\n",
    "    elif (column >50000) and (column <= 60000):\n",
    "        return '50k to 60k'\n",
    "    elif (column >60000) and (column <= 70000):\n",
    "        return '60k to 70k'\n",
    "    elif (column >70000) and (column <= 80000):\n",
    "        return '70k to 80k'\n",
    "    else:\n",
    "        return '80k - above' # 75% quartile\n",
    "\n",
    "loan_df['annual_inc_b'] = loan_df.apply(lambda x: bucket_annual_inc(x['annual_inc']), axis = 1)"
   ]
  },
  {
   "cell_type": "code",
   "execution_count": 725,
   "id": "zYIVLVceIQU7",
   "metadata": {
    "id": "zYIVLVceIQU7"
   },
   "outputs": [],
   "source": [
    "# Bucketing interest rate\n",
    "def bucket_int_rate(column):\n",
    "    if column <= 9:\n",
    "        return 'Very Low' # 25% quartile\n",
    "    elif (column >9) and (column <= 11):\n",
    "        return 'Low'\n",
    "    elif (column >11) and (column <= 13):\n",
    "        return 'Moderate'\n",
    "    elif (column >13) and (column <= 15):\n",
    "        return 'High'\n",
    "    else:\n",
    "        return 'Very High' # 75% quartile\n",
    "\n",
    "loan_df['int_rate_b'] = loan_df.apply(lambda x : bucket_int_rate(x.int_rate), axis = 1)"
   ]
  },
  {
   "cell_type": "code",
   "execution_count": 726,
   "id": "Ncn02CyBvzd1",
   "metadata": {
    "id": "Ncn02CyBvzd1"
   },
   "outputs": [],
   "source": [
    "# Bucketing dti\n",
    "def bucket_dti(column):\n",
    "    if column <= 8:\n",
    "        return 'Very Low' # 25% quartile\n",
    "    elif (column >8) and (column <= 12):\n",
    "        return 'Low'\n",
    "    elif (column >12) and (column <= 16):\n",
    "        return 'Moderate'\n",
    "    elif (column >16) and (column <= 20):\n",
    "        return 'High'\n",
    "    else:\n",
    "        return 'Very High' # 75% quartile\n",
    "\n",
    "loan_df['dti_b'] = loan_df.apply(lambda x : bucket_dti(x.dti), axis = 1)"
   ]
  },
  {
   "cell_type": "code",
   "execution_count": 727,
   "id": "s4AX9mlpulER",
   "metadata": {
    "id": "s4AX9mlpulER"
   },
   "outputs": [],
   "source": [
    "# Univarients function\n",
    "def plot_digram(df, column):\n",
    "    fig, p = plot.subplots(1,2, figsize=(16, 4))\n",
    "    sea.distplot(df.loc[df[column].notnull(), column], kde=True, hist=True, ax=p[0])\n",
    "    sea.boxplot(x=column, data=df, ax=p[1])\n",
    "    p[0].set_xlabel(column_titles[column])\n",
    "    p[1].set_xlabel(column_titles[column])\n",
    "    plot.tight_layout()\n",
    "    plot.show()"
   ]
  },
  {
   "cell_type": "code",
   "execution_count": 728,
   "id": "U4TEph3pzMTM",
   "metadata": {
    "id": "U4TEph3pzMTM"
   },
   "outputs": [
    {
     "data": {
      "image/png": "[encoded data removed]",
      "text/plain": [
       "<Figure size 640x480 with 1 Axes>"
      ]
     },
     "metadata": {},
     "output_type": "display_data"
    }
   ],
   "source": [
    "plot.boxplot(loan_df['loan_amnt'],)\n",
    "plot.show()\n"
   ]
  },
  {
   "cell_type": "code",
   "execution_count": 729,
   "id": "1e41854d",
   "metadata": {
    "id": "1e41854d"
   },
   "outputs": [
    {
     "data": {
      "image/png": "[encoded data removed]",
      "text/plain": [
       "<Figure size 640x480 with 1 Axes>"
      ]
     },
     "metadata": {},
     "output_type": "display_data"
    }
   ],
   "source": [
    "plot.boxplot(loan_df['funded_amnt'])\n",
    "plot.show()"
   ]
  },
  {
   "cell_type": "code",
   "execution_count": 730,
   "id": "90b771d3",
   "metadata": {
    "id": "90b771d3"
   },
   "outputs": [
    {
     "data": {
      "image/png": "[encoded data removed]",
      "text/plain": [
       "<Figure size 640x480 with 1 Axes>"
      ]
     },
     "metadata": {},
     "output_type": "display_data"
    }
   ],
   "source": [
    "plot.boxplot(loan_df['funded_amnt_inv'])\n",
    "plot.show()"
   ]
  },
  {
   "cell_type": "code",
   "execution_count": 731,
   "id": "dac4aa25",
   "metadata": {
    "id": "dac4aa25"
   },
   "outputs": [
    {
     "data": {
      "image/png": "[encoded data removed]",
      "text/plain": [
       "<Figure size 640x480 with 1 Axes>"
      ]
     },
     "metadata": {},
     "output_type": "display_data"
    }
   ],
   "source": [
    "plot.boxplot(loan_df['annual_inc'])\n",
    "plot.show()"
   ]
  },
  {
   "cell_type": "code",
   "execution_count": 732,
   "id": "f6124911",
   "metadata": {
    "id": "f6124911"
   },
   "outputs": [
    {
     "data": {
      "image/png": "[encoded data removed]",
      "text/plain": [
       "<Figure size 640x480 with 1 Axes>"
      ]
     },
     "metadata": {},
     "output_type": "display_data"
    }
   ],
   "source": [
    "plot.boxplot(loan_df['int_rate'])\n",
    "plot.show()"
   ]
  },
  {
   "cell_type": "code",
   "execution_count": 733,
   "id": "6b739388",
   "metadata": {
    "id": "6b739388"
   },
   "outputs": [
    {
     "data": {
      "image/png": "[encoded data removed]",
      "text/plain": [
       "<Figure size 640x480 with 1 Axes>"
      ]
     },
     "metadata": {},
     "output_type": "display_data"
    }
   ],
   "source": [
    "plot.boxplot(loan_df['dti'])\n",
    "plot.show()"
   ]
  },
  {
   "cell_type": "code",
   "execution_count": 734,
   "id": "3901a7e5",
   "metadata": {
    "id": "3901a7e5"
   },
   "outputs": [
    {
     "data": {
      "image/png": "[encoded data removed]",
      "text/plain": [
       "<Figure size 640x480 with 1 Axes>"
      ]
     },
     "metadata": {},
     "output_type": "display_data"
    }
   ],
   "source": [
    "plot.boxplot(loan_df['installment'])\n",
    "plot.show()"
   ]
  },
  {
   "cell_type": "code",
   "execution_count": 735,
   "id": "21611a21",
   "metadata": {
    "id": "21611a21"
   },
   "outputs": [],
   "source": [
    "# From above box plts we can see there is otliers exits for columns'loan_amnt', 'funded_amnt', 'funded_amnt_inv', 'int_rate', 'installment', 'annual_inc'.\n",
    "# Lets remove the outlier\n",
    "outliers_columns_set1= ['loan_amnt', 'funded_amnt', 'funded_amnt_inv']\n",
    "outliers_columns_set2=['int_rate', 'installment', 'annual_inc']\n",
    "# Define a function to remove outliers based on IQR\n",
    "def remove_outliers_iqr(data, columns,threshold):\n",
    "    for col in columns:\n",
    "        Q1 = data[col].quantile(0.25)\n",
    "        Q3 = data[col].quantile(0.75)\n",
    "        IQR = Q3 - Q1\n",
    "        lower_bound = Q1 - threshold * IQR\n",
    "        upper_bound = Q3 + threshold * IQR\n",
    "        data = data[(data[col] >= lower_bound) & (data[col] <= upper_bound)]\n",
    "    return data\n",
    "\n",
    "# Remove outliers from the DataFrame\n",
    "loan_df =remove_outliers_iqr(loan_df, outliers_columns_set1,1.5)\n",
    "loan_df =remove_outliers_iqr(loan_df, outliers_columns_set2,1.5)\n",
    "\n"
   ]
  },
  {
   "cell_type": "code",
   "execution_count": 736,
   "id": "ab48b5f4",
   "metadata": {
    "id": "ab48b5f4"
   },
   "outputs": [
    {
     "data": {
      "image/png": "[encoded data removed]",
      "text/plain": [
       "<Figure size 640x480 with 1 Axes>"
      ]
     },
     "metadata": {},
     "output_type": "display_data"
    }
   ],
   "source": [
    "plot.boxplot(loan_df['loan_amnt'])\n",
    "plot.show()"
   ]
  },
  {
   "cell_type": "code",
   "execution_count": 737,
   "id": "ac595d2c",
   "metadata": {
    "id": "ac595d2c"
   },
   "outputs": [
    {
     "data": {
      "image/png": "[encoded data removed]",
      "text/plain": [
       "<Figure size 640x480 with 1 Axes>"
      ]
     },
     "metadata": {},
     "output_type": "display_data"
    }
   ],
   "source": [
    "plot.boxplot(loan_df['funded_amnt_inv'])\n",
    "plot.show()"
   ]
  },
  {
   "cell_type": "code",
   "execution_count": 738,
   "id": "42e2b6c0",
   "metadata": {
    "id": "42e2b6c0"
   },
   "outputs": [
    {
     "data": {
      "image/png": "[encoded data removed]",
      "text/plain": [
       "<Figure size 640x480 with 1 Axes>"
      ]
     },
     "metadata": {},
     "output_type": "display_data"
    }
   ],
   "source": [
    "plot.boxplot(loan_df['funded_amnt'])\n",
    "plot.show()"
   ]
  },
  {
   "cell_type": "code",
   "execution_count": 739,
   "id": "496d0182",
   "metadata": {
    "id": "496d0182"
   },
   "outputs": [
    {
     "data": {
      "image/png": "[encoded data removed]",
      "text/plain": [
       "<Figure size 640x480 with 1 Axes>"
      ]
     },
     "metadata": {},
     "output_type": "display_data"
    }
   ],
   "source": [
    "plot.boxplot(loan_df['annual_inc'])\n",
    "plot.show()"
   ]
  },
  {
   "cell_type": "code",
   "execution_count": 740,
   "id": "7b200717",
   "metadata": {
    "id": "7b200717"
   },
   "outputs": [
    {
     "data": {
      "image/png": "[encoded data removed]",
      "text/plain": [
       "<Figure size 640x480 with 1 Axes>"
      ]
     },
     "metadata": {},
     "output_type": "display_data"
    }
   ],
   "source": [
    "plot.boxplot(loan_df['int_rate'])\n",
    "plot.show()"
   ]
  },
  {
   "cell_type": "code",
   "execution_count": 741,
   "id": "8a50f3c4",
   "metadata": {
    "id": "8a50f3c4"
   },
   "outputs": [
    {
     "data": {
      "image/png": "[encoded data removed]",
      "text/plain": [
       "<Figure size 640x480 with 1 Axes>"
      ]
     },
     "metadata": {},
     "output_type": "display_data"
    }
   ],
   "source": [
    "plot.boxplot(loan_df['installment'])\n",
    "plot.show()"
   ]
  },
  {
   "cell_type": "code",
   "execution_count": 742,
   "id": "5ec3be7d",
   "metadata": {
    "id": "5ec3be7d"
   },
   "outputs": [
    {
     "data": {
      "image/png": "[encoded data removed]",
      "text/plain": [
       "<Figure size 1600x400 with 2 Axes>"
      ]
     },
     "metadata": {},
     "output_type": "display_data"
    },
    {
     "data": {
      "text/plain": [
       "count    33191.000000\n",
       "mean      9820.838480\n",
       "std       5809.600807\n",
       "min        500.000000\n",
       "25%       5000.000000\n",
       "50%       9000.000000\n",
       "75%      13750.000000\n",
       "max      29000.000000\n",
       "Name: loan_amnt, dtype: float64"
      ]
     },
     "execution_count": 742,
     "metadata": {},
     "output_type": "execute_result"
    }
   ],
   "source": [
    "plot_digram(loan_df, 'loan_amnt')\n",
    "#print(loan_df[\"loan_amnt\"].mean())\n",
    "# describe the Loan Amount\n",
    "loan_df['loan_amnt'].describe()"
   ]
  },
  {
   "cell_type": "code",
   "execution_count": 743,
   "id": "e7aa8353",
   "metadata": {
    "id": "e7aa8353"
   },
   "outputs": [],
   "source": [
    "# observation:\n",
    "# Most of the loan amount applied was in the range of 5k-14k.\n",
    "# Max Loan amount applied was ~27k."
   ]
  },
  {
   "cell_type": "code",
   "execution_count": 744,
   "id": "36ad6391",
   "metadata": {
    "id": "36ad6391"
   },
   "outputs": [
    {
     "data": {
      "image/png": "[encoded data removed]",
      "text/plain": [
       "<Figure size 1600x400 with 2 Axes>"
      ]
     },
     "metadata": {},
     "output_type": "display_data"
    },
    {
     "data": {
      "text/plain": [
       "count     33191.000000\n",
       "mean      59883.284700\n",
       "std       26916.857415\n",
       "min        4000.000000\n",
       "25%       40000.000000\n",
       "50%       55000.000000\n",
       "75%       75000.000000\n",
       "max      140000.000000\n",
       "Name: annual_inc, dtype: float64"
      ]
     },
     "execution_count": 744,
     "metadata": {},
     "output_type": "execute_result"
    }
   ],
   "source": [
    "plot_digram(loan_df, 'annual_inc')\n",
    "#print(loan_df[\"loan_amnt\"].mean())\n",
    "# describe the annual income details\n",
    "loan_df['annual_inc'].describe()"
   ]
  },
  {
   "cell_type": "code",
   "execution_count": 745,
   "id": "eOFnm5RJ38El",
   "metadata": {
    "id": "eOFnm5RJ38El"
   },
   "outputs": [
    {
     "data": {
      "image/png": "[encoded data removed]",
      "text/plain": [
       "<Figure size 1600x400 with 2 Axes>"
      ]
     },
     "metadata": {},
     "output_type": "display_data"
    },
    {
     "data": {
      "text/plain": [
       "count    33191.000000\n",
       "mean      9593.825887\n",
       "std       5565.574327\n",
       "min        500.000000\n",
       "25%       5000.000000\n",
       "50%       8500.000000\n",
       "75%      13000.000000\n",
       "max      28000.000000\n",
       "Name: funded_amnt, dtype: float64"
      ]
     },
     "execution_count": 745,
     "metadata": {},
     "output_type": "execute_result"
    }
   ],
   "source": [
    "plot_digram(loan_df, 'funded_amnt')\n",
    "loan_df['funded_amnt'].describe()"
   ]
  },
  {
   "cell_type": "code",
   "execution_count": 746,
   "id": "506130d4",
   "metadata": {
    "id": "506130d4"
   },
   "outputs": [
    {
     "data": {
      "image/png": "[encoded data removed]",
      "text/plain": [
       "<Figure size 1600x400 with 2 Axes>"
      ]
     },
     "metadata": {},
     "output_type": "display_data"
    },
    {
     "data": {
      "text/plain": [
       "count    33191.000000\n",
       "mean        11.782783\n",
       "std          3.591944\n",
       "min          5.420000\n",
       "25%          8.900000\n",
       "50%         11.710000\n",
       "75%         14.260000\n",
       "max         22.110000\n",
       "Name: int_rate, dtype: float64"
      ]
     },
     "execution_count": 746,
     "metadata": {},
     "output_type": "execute_result"
    }
   ],
   "source": [
    "plot_digram(loan_df, 'int_rate')\n",
    "loan_df['int_rate'].describe()"
   ]
  },
  {
   "cell_type": "code",
   "execution_count": 747,
   "id": "f33dd225",
   "metadata": {
    "id": "f33dd225"
   },
   "outputs": [],
   "source": [
    "# Most of the applicant's rate of interesrt is between in the range of 8%-14%.\n",
    "# Average Rate of interest of rate is 11.7 %"
   ]
  },
  {
   "cell_type": "markdown",
   "id": "UpMjUsYozkc1",
   "metadata": {
    "id": "UpMjUsYozkc1"
   },
   "source": [
    "### 5.2 Unordered Categorical Variable Analysis"
   ]
  },
  {
   "cell_type": "code",
   "execution_count": 749,
   "id": "6gxExigAzkIY",
   "metadata": {
    "id": "6gxExigAzkIY"
   },
   "outputs": [
    {
     "data": {
      "text/plain": [
       "<Axes: xlabel='home_ownership'>"
      ]
     },
     "execution_count": 749,
     "metadata": {},
     "output_type": "execute_result"
    },
    {
     "data": {
      "image/png": "[encoded data removed]",
      "text/plain": [
       "<Figure size 640x480 with 1 Axes>"
      ]
     },
     "metadata": {},
     "output_type": "display_data"
    }
   ],
   "source": [
    "loan_df['home_ownership'].value_counts().plot.bar()"
   ]
  },
  {
   "cell_type": "code",
   "execution_count": 750,
   "id": "223a39da",
   "metadata": {
    "id": "223a39da"
   },
   "outputs": [],
   "source": [
    "# Majority of loan applicants are either living on Rent or on Mortgage"
   ]
  },
  {
   "cell_type": "code",
   "execution_count": 751,
   "id": "197fd250",
   "metadata": {
    "id": "197fd250"
   },
   "outputs": [
    {
     "data": {
      "text/plain": [
       "<Axes: xlabel='purpose'>"
      ]
     },
     "execution_count": 751,
     "metadata": {},
     "output_type": "execute_result"
    },
    {
     "data": {
      "image/png": "[encoded data removed]",
      "text/plain": [
       "<Figure size 640x480 with 1 Axes>"
      ]
     },
     "metadata": {},
     "output_type": "display_data"
    }
   ],
   "source": [
    "loan_df['purpose'].value_counts().plot.bar()"
   ]
  },
  {
   "cell_type": "code",
   "execution_count": 752,
   "id": "965336a6",
   "metadata": {
    "id": "965336a6"
   },
   "outputs": [],
   "source": [
    "# Most of the loan applicants are for debt_consolidations."
   ]
  },
  {
   "cell_type": "code",
   "execution_count": 753,
   "id": "kP-_Fq1qUb9O",
   "metadata": {
    "colab": {
     "base_uri": "https://localhost:8080/"
    },
    "id": "kP-_Fq1qUb9O",
    "outputId": "42026ace-18ca-4e59-ad41-8d888d42ada1"
   },
   "outputs": [
    {
     "data": {
      "text/plain": [
       "loan_status\n",
       "Fully Paid     28477\n",
       "Charged Off     4714\n",
       "Name: count, dtype: int64"
      ]
     },
     "execution_count": 753,
     "metadata": {},
     "output_type": "execute_result"
    }
   ],
   "source": [
    "loan_df[\"loan_status\"].value_counts()"
   ]
  },
  {
   "cell_type": "code",
   "execution_count": 754,
   "id": "VMvoJBJAmhz7",
   "metadata": {
    "id": "VMvoJBJAmhz7"
   },
   "outputs": [
    {
     "data": {
      "text/plain": [
       "<Axes: ylabel='count'>"
      ]
     },
     "execution_count": 754,
     "metadata": {},
     "output_type": "execute_result"
    },
    {
     "data": {
      "image/png": "[encoded data removed]",
      "text/plain": [
       "<Figure size 640x480 with 1 Axes>"
      ]
     },
     "metadata": {},
     "output_type": "display_data"
    }
   ],
   "source": [
    "#using Pie plot to visualize\n",
    "loan_df['addr_state'].value_counts().plot(kind=\"pie\")"
   ]
  },
  {
   "cell_type": "code",
   "execution_count": 755,
   "id": "bf3c68a2",
   "metadata": {
    "id": "bf3c68a2"
   },
   "outputs": [],
   "source": [
    "# Most of the Loan applicants are from CA(State)."
   ]
  },
  {
   "cell_type": "markdown",
   "id": "f214ea4d",
   "metadata": {
    "id": "f214ea4d"
   },
   "source": [
    "#### 5.3 Ordered Categorical Variable Analysis"
   ]
  },
  {
   "cell_type": "code",
   "execution_count": 757,
   "id": "M2Ps1QhfnyzM",
   "metadata": {
    "id": "M2Ps1QhfnyzM",
    "scrolled": true
   },
   "outputs": [
    {
     "data": {
      "text/plain": [
       "<Axes: ylabel='count'>"
      ]
     },
     "execution_count": 757,
     "metadata": {},
     "output_type": "execute_result"
    },
    {
     "data": {
      "image/png": "[encoded data removed]",
      "text/plain": [
       "<Figure size 640x480 with 1 Axes>"
      ]
     },
     "metadata": {},
     "output_type": "display_data"
    }
   ],
   "source": [
    "loan_df['emp_length'].value_counts().plot(kind=\"pie\")"
   ]
  },
  {
   "cell_type": "code",
   "execution_count": 758,
   "id": "fc8fbfcf",
   "metadata": {
    "id": "fc8fbfcf"
   },
   "outputs": [],
   "source": [
    "# Most of the applications are having 10+ yrs of Exp."
   ]
  },
  {
   "cell_type": "code",
   "execution_count": 774,
   "id": "33872c17-9d48-41b6-b697-f39cc360b959",
   "metadata": {
    "id": "fc8fbfcf"
   },
   "outputs": [
    {
     "data": {
      "image/png": "[encoded data removed]",
      "text/plain": [
       "<Figure size 1000x500 with 1 Axes>"
      ]
     },
     "metadata": {},
     "output_type": "display_data"
    }
   ],
   "source": [
    "import seaborn as sns\n",
    "\n",
    "plot.figure(figsize=(10,5))\n",
    "sns.countplot(data=loan_df,y='purpose',hue='loan_status')\n",
    "plot.xlabel('Count')\n",
    "plot.ylabel('Purpose')\n",
    "plot.title('Loan Taken For Different Purposes',fontsize=12)\n",
    "plot.show()"
   ]
  },
  {
   "cell_type": "markdown",
   "id": "49KRjzZiJhc_",
   "metadata": {
    "id": "49KRjzZiJhc_"
   },
   "source": [
    "## 6.  Bivariate Analysis"
   ]
  },
  {
   "cell_type": "code",
   "execution_count": 760,
   "id": "npQjzEXHDB6C",
   "metadata": {
    "id": "npQjzEXHDB6C"
   },
   "outputs": [
    {
     "data": {
      "text/html": [
       "<div>\n",
       "<style scoped>\n",
       "    .dataframe tbody tr th:only-of-type {\n",
       "        vertical-align: middle;\n",
       "    }\n",
       "\n",
       "    .dataframe tbody tr th {\n",
       "        vertical-align: top;\n",
       "    }\n",
       "\n",
       "    .dataframe thead th {\n",
       "        text-align: right;\n",
       "    }\n",
       "</style>\n",
       "<table border=\"1\" class=\"dataframe\">\n",
       "  <thead>\n",
       "    <tr style=\"text-align: right;\">\n",
       "      <th>loan_status</th>\n",
       "      <th>annual_inc_b</th>\n",
       "      <th>Charged Off</th>\n",
       "      <th>Fully Paid</th>\n",
       "      <th>Total</th>\n",
       "      <th>Chargedoff_Proportion</th>\n",
       "    </tr>\n",
       "  </thead>\n",
       "  <tbody>\n",
       "    <tr>\n",
       "      <th>0</th>\n",
       "      <td>0 - 40k</td>\n",
       "      <td>1570</td>\n",
       "      <td>7326</td>\n",
       "      <td>8896</td>\n",
       "      <td>0.176484</td>\n",
       "    </tr>\n",
       "    <tr>\n",
       "      <th>2</th>\n",
       "      <td>50k to 60k</td>\n",
       "      <td>788</td>\n",
       "      <td>4435</td>\n",
       "      <td>5223</td>\n",
       "      <td>0.150871</td>\n",
       "    </tr>\n",
       "    <tr>\n",
       "      <th>1</th>\n",
       "      <td>40k - 50k</td>\n",
       "      <td>807</td>\n",
       "      <td>4593</td>\n",
       "      <td>5400</td>\n",
       "      <td>0.149444</td>\n",
       "    </tr>\n",
       "    <tr>\n",
       "      <th>3</th>\n",
       "      <td>60k to 70k</td>\n",
       "      <td>486</td>\n",
       "      <td>3261</td>\n",
       "      <td>3747</td>\n",
       "      <td>0.129704</td>\n",
       "    </tr>\n",
       "    <tr>\n",
       "      <th>4</th>\n",
       "      <td>70k to 80k</td>\n",
       "      <td>385</td>\n",
       "      <td>2749</td>\n",
       "      <td>3134</td>\n",
       "      <td>0.122846</td>\n",
       "    </tr>\n",
       "    <tr>\n",
       "      <th>5</th>\n",
       "      <td>80k - above</td>\n",
       "      <td>678</td>\n",
       "      <td>6113</td>\n",
       "      <td>6791</td>\n",
       "      <td>0.099838</td>\n",
       "    </tr>\n",
       "  </tbody>\n",
       "</table>\n",
       "</div>"
      ],
      "text/plain": [
       "loan_status annual_inc_b  Charged Off  Fully Paid  Total  \\\n",
       "0                0 - 40k         1570        7326   8896   \n",
       "2             50k to 60k          788        4435   5223   \n",
       "1              40k - 50k          807        4593   5400   \n",
       "3             60k to 70k          486        3261   3747   \n",
       "4             70k to 80k          385        2749   3134   \n",
       "5            80k - above          678        6113   6791   \n",
       "\n",
       "loan_status  Chargedoff_Proportion  \n",
       "0                         0.176484  \n",
       "2                         0.150871  \n",
       "1                         0.149444  \n",
       "3                         0.129704  \n",
       "4                         0.122846  \n",
       "5                         0.099838  "
      ]
     },
     "execution_count": 760,
     "metadata": {},
     "output_type": "execute_result"
    }
   ],
   "source": [
    "#Bivariate Analysis on annual income against Chargedoff_Proportion -\n",
    "\n",
    "inc_range_vs_loan = loan_df.groupby(['annual_inc_b', 'loan_status']).loan_status.count().unstack().fillna(0).reset_index()\n",
    "inc_range_vs_loan['Total'] = inc_range_vs_loan['Charged Off']+ inc_range_vs_loan['Fully Paid']\n",
    "inc_range_vs_loan['Chargedoff_Proportion'] = inc_range_vs_loan['Charged Off'] / inc_range_vs_loan['Total']\n",
    "inc_range_vs_loan.sort_values('Chargedoff_Proportion', ascending=False)"
   ]
  },
  {
   "cell_type": "code",
   "execution_count": 762,
   "id": "G6G65yI8EY3i",
   "metadata": {
    "id": "G6G65yI8EY3i"
   },
   "outputs": [
    {
     "data": {
      "image/png": "[encoded data removed]",
      "text/plain": [
       "<Figure size 1200x800 with 1 Axes>"
      ]
     },
     "metadata": {},
     "output_type": "display_data"
    }
   ],
   "source": [
    "\n",
    "# Drawing bar plots to visualize the pattern and understand the data better\n",
    "fig, ax1 = plot.subplots(figsize=(12, 8), facecolor='white')\n",
    "\n",
    "# Title with a vibrant color\n",
    "ax1.set_title('Annual Income vs Charged off Proportion', fontsize=18, color='#333333')\n",
    "\n",
    "# Bar plot with a bright and contrasting color palette\n",
    "ax1 = sea.barplot(x='annual_inc_b', y='Chargedoff_Proportion', data=inc_range_vs_loan, palette='Spectral')\n",
    "\n",
    "# Y-axis label with dark gray color for readability\n",
    "ax1.set_ylabel('Chargedoff Proportion', fontsize=14, color='#333333')\n",
    "\n",
    "# X-axis label with dark gray color for readability\n",
    "ax1.set_xlabel('Annual Income', fontsize=14, color='#333333')\n",
    "\n",
    "# Set ticks color to dark gray for better readability\n",
    "ax1.tick_params(colors='#333333')\n",
    "\n",
    "# Show the plot\n",
    "plot.show()\n",
    "\n",
    "# Observations:\n",
    "# Income range 80000+  has less chances of charged off.\n",
    "# Income range 0-20000 has high chances of charged off.\n",
    "# Notice that with increase in annual income charged off proportion got decreased."
   ]
  },
  {
   "cell_type": "code",
   "execution_count": 764,
   "id": "fBi6CzO_Hs5D",
   "metadata": {
    "id": "fBi6CzO_Hs5D"
   },
   "outputs": [
    {
     "data": {
      "text/html": [
       "<div>\n",
       "<style scoped>\n",
       "    .dataframe tbody tr th:only-of-type {\n",
       "        vertical-align: middle;\n",
       "    }\n",
       "\n",
       "    .dataframe tbody tr th {\n",
       "        vertical-align: top;\n",
       "    }\n",
       "\n",
       "    .dataframe thead th {\n",
       "        text-align: right;\n",
       "    }\n",
       "</style>\n",
       "<table border=\"1\" class=\"dataframe\">\n",
       "  <thead>\n",
       "    <tr style=\"text-align: right;\">\n",
       "      <th>loan_status</th>\n",
       "      <th>int_rate_b</th>\n",
       "      <th>Charged Off</th>\n",
       "      <th>Fully Paid</th>\n",
       "      <th>Total</th>\n",
       "      <th>Chargedoff_Proportion</th>\n",
       "    </tr>\n",
       "  </thead>\n",
       "  <tbody>\n",
       "    <tr>\n",
       "      <th>3</th>\n",
       "      <td>Very High</td>\n",
       "      <td>1670</td>\n",
       "      <td>4751</td>\n",
       "      <td>6421</td>\n",
       "      <td>0.260084</td>\n",
       "    </tr>\n",
       "    <tr>\n",
       "      <th>0</th>\n",
       "      <td>High</td>\n",
       "      <td>985</td>\n",
       "      <td>4851</td>\n",
       "      <td>5836</td>\n",
       "      <td>0.168780</td>\n",
       "    </tr>\n",
       "    <tr>\n",
       "      <th>2</th>\n",
       "      <td>Moderate</td>\n",
       "      <td>961</td>\n",
       "      <td>5638</td>\n",
       "      <td>6599</td>\n",
       "      <td>0.145628</td>\n",
       "    </tr>\n",
       "    <tr>\n",
       "      <th>1</th>\n",
       "      <td>Low</td>\n",
       "      <td>579</td>\n",
       "      <td>4983</td>\n",
       "      <td>5562</td>\n",
       "      <td>0.104099</td>\n",
       "    </tr>\n",
       "    <tr>\n",
       "      <th>4</th>\n",
       "      <td>Very Low</td>\n",
       "      <td>519</td>\n",
       "      <td>8254</td>\n",
       "      <td>8773</td>\n",
       "      <td>0.059159</td>\n",
       "    </tr>\n",
       "  </tbody>\n",
       "</table>\n",
       "</div>"
      ],
      "text/plain": [
       "loan_status int_rate_b  Charged Off  Fully Paid  Total  Chargedoff_Proportion\n",
       "3            Very High         1670        4751   6421               0.260084\n",
       "0                 High          985        4851   5836               0.168780\n",
       "2             Moderate          961        5638   6599               0.145628\n",
       "1                  Low          579        4983   5562               0.104099\n",
       "4             Very Low          519        8254   8773               0.059159"
      ]
     },
     "execution_count": 764,
     "metadata": {},
     "output_type": "execute_result"
    }
   ],
   "source": [
    "#Bivariate Analysis on Intrest rate  against Chargedoff_Proportion -\n",
    "\n",
    "interest_vs_loan = loan_df.groupby(['int_rate_b', 'loan_status']).loan_status.count().unstack().fillna(0).reset_index()\n",
    "interest_vs_loan['Total'] = interest_vs_loan['Charged Off']+ interest_vs_loan['Fully Paid']\n",
    "interest_vs_loan['Chargedoff_Proportion'] = interest_vs_loan['Charged Off'] / interest_vs_loan['Total']\n",
    "interest_vs_loan.sort_values('Chargedoff_Proportion', ascending=False)\n"
   ]
  },
  {
   "cell_type": "code",
   "execution_count": 766,
   "id": "qTn8tedAIdFS",
   "metadata": {
    "id": "qTn8tedAIdFS"
   },
   "outputs": [
    {
     "data": {
      "image/png": "[encoded data removed]",
      "text/plain": [
       "<Figure size 1200x800 with 1 Axes>"
      ]
     },
     "metadata": {},
     "output_type": "display_data"
    }
   ],
   "source": [
    "## plot the diagram.\n",
    "fig, ax1 = plot.subplots(figsize=(12, 8), facecolor='white')\n",
    "ax1.set_title('Interest Rate vs Chargedoff Proportion', fontsize=18, color='#333333')\n",
    "ax1 = sea.barplot(x='int_rate_b', y='Chargedoff_Proportion', data=interest_vs_loan, palette='Spectral')\n",
    "ax1.set_xlabel('Interest Rate', fontsize=14, color='#333333')\n",
    "ax1.set_ylabel('Chargedoff Proportion', fontsize=14, color='#333333')\n",
    "ax1.tick_params(colors='#333333')\n",
    "\n",
    "plot.show()\n",
    "\n",
    "# Observations:\n",
    "# interest rate less than 10% or very low has very less chances of charged off. Intrest rates are starting from minimin 5 %.\n",
    "# interest rate more than 16% or very high has good chnaces of charged off as compared to other category intrest rates.\n",
    "# Charged off proportion is increasing with higher intrest rates.\n"
   ]
  },
  {
   "cell_type": "markdown",
   "id": "rDvetqMu0hMo",
   "metadata": {
    "id": "rDvetqMu0hMo"
   },
   "source": [
    "Another inference form the houseowner variable those who are not owning the house are most likely to be charged off."
   ]
  },
  {
   "cell_type": "code",
   "execution_count": 768,
   "id": "ac7e1913",
   "metadata": {
    "id": "ac7e1913"
   },
   "outputs": [
    {
     "data": {
      "text/html": [
       "<div>\n",
       "<style scoped>\n",
       "    .dataframe tbody tr th:only-of-type {\n",
       "        vertical-align: middle;\n",
       "    }\n",
       "\n",
       "    .dataframe tbody tr th {\n",
       "        vertical-align: top;\n",
       "    }\n",
       "\n",
       "    .dataframe thead th {\n",
       "        text-align: right;\n",
       "    }\n",
       "</style>\n",
       "<table border=\"1\" class=\"dataframe\">\n",
       "  <thead>\n",
       "    <tr style=\"text-align: right;\">\n",
       "      <th>loan_status</th>\n",
       "      <th>home_ownership</th>\n",
       "      <th>Charged Off</th>\n",
       "      <th>Fully Paid</th>\n",
       "      <th>Total</th>\n",
       "      <th>Chargedoff_Proportion</th>\n",
       "    </tr>\n",
       "  </thead>\n",
       "  <tbody>\n",
       "    <tr>\n",
       "      <th>1</th>\n",
       "      <td>OTHER</td>\n",
       "      <td>16</td>\n",
       "      <td>73</td>\n",
       "      <td>89</td>\n",
       "      <td>0.179775</td>\n",
       "    </tr>\n",
       "    <tr>\n",
       "      <th>3</th>\n",
       "      <td>RENT</td>\n",
       "      <td>2488</td>\n",
       "      <td>14156</td>\n",
       "      <td>16644</td>\n",
       "      <td>0.149483</td>\n",
       "    </tr>\n",
       "    <tr>\n",
       "      <th>2</th>\n",
       "      <td>OWN</td>\n",
       "      <td>355</td>\n",
       "      <td>2121</td>\n",
       "      <td>2476</td>\n",
       "      <td>0.143376</td>\n",
       "    </tr>\n",
       "    <tr>\n",
       "      <th>0</th>\n",
       "      <td>MORTGAGE</td>\n",
       "      <td>1855</td>\n",
       "      <td>12127</td>\n",
       "      <td>13982</td>\n",
       "      <td>0.132671</td>\n",
       "    </tr>\n",
       "  </tbody>\n",
       "</table>\n",
       "</div>"
      ],
      "text/plain": [
       "loan_status home_ownership  Charged Off  Fully Paid  Total  \\\n",
       "1                    OTHER           16          73     89   \n",
       "3                     RENT         2488       14156  16644   \n",
       "2                      OWN          355        2121   2476   \n",
       "0                 MORTGAGE         1855       12127  13982   \n",
       "\n",
       "loan_status  Chargedoff_Proportion  \n",
       "1                         0.179775  \n",
       "3                         0.149483  \n",
       "2                         0.143376  \n",
       "0                         0.132671  "
      ]
     },
     "execution_count": 768,
     "metadata": {},
     "output_type": "execute_result"
    }
   ],
   "source": [
    "#Bivariate Analysis of Home Ownership against Chargedoff_Proportion -\n",
    "\n",
    "home_ownership_vs_loan = loan_df.groupby(['home_ownership', 'loan_status']).loan_status.count().unstack().fillna(0).reset_index()\n",
    "home_ownership_vs_loan['Total'] = home_ownership_vs_loan['Charged Off']+ home_ownership_vs_loan['Fully Paid']\n",
    "home_ownership_vs_loan['Chargedoff_Proportion'] = home_ownership_vs_loan['Charged Off'] / home_ownership_vs_loan['Total']\n",
    "home_ownership_vs_loan.sort_values('Chargedoff_Proportion', ascending=False)"
   ]
  },
  {
   "cell_type": "code",
   "execution_count": null,
   "id": "8820a20c",
   "metadata": {
    "id": "8820a20c"
   },
   "outputs": [],
   "source": [
    "\n",
    "fig, ax1 = plot.subplots(figsize=(12, 8),facecolor='b')\n",
    "ax1.set_title('Home Ownership vs Chargedoff Proportion',fontsize=15,color='w')\n",
    "ax1=sea.barplot(x='home_ownership', y='Chargedoff_Proportion', data=home_ownership_vs_loan)\n",
    "ax1.set_xlabel('Home Ownership',fontsize=14,color='w')\n",
    "ax1.set_ylabel('Chargedoff Proportion',fontsize=14,color = 'w')\n",
    "plot.show()"
   ]
  },
  {
   "cell_type": "code",
   "execution_count": null,
   "id": "7201507a",
   "metadata": {
    "id": "7201507a"
   },
   "outputs": [],
   "source": [
    "# observation:\n",
    "# Those who are not owning the home is having high chances of loan defaults."
   ]
  },
  {
   "cell_type": "code",
   "execution_count": null,
   "id": "ba572f4f",
   "metadata": {
    "id": "ba572f4f"
   },
   "outputs": [],
   "source": [
    "#Bivariate Analysis on Purpose of loan against Chargedoff_Proportion -\n",
    "\n",
    "purpose_vs_loan = loan_df.groupby(['purpose', 'loan_status']).loan_status.count().unstack().fillna(0).reset_index()\n",
    "purpose_vs_loan['Total'] = purpose_vs_loan['Charged Off']+ purpose_vs_loan['Fully Paid']\n",
    "purpose_vs_loan['Chargedoff_Proportion'] = purpose_vs_loan['Charged Off'] / purpose_vs_loan['Total']\n",
    "purpose_vs_loan.sort_values('Chargedoff_Proportion', ascending=False)"
   ]
  },
  {
   "cell_type": "code",
   "execution_count": null,
   "id": "bfe42e8d",
   "metadata": {
    "id": "bfe42e8d"
   },
   "outputs": [],
   "source": [
    "fig, ax1 = plot.subplots(figsize=(12, 8), facecolor='white')\n",
    "ax1.set_title('Purpose vs Chargedoff Proportion', fontsize=18, color='#333333')\n",
    "ax1 = sea.barplot(x='purpose', y='Chargedoff_Proportion', data=purpose_vs_loan, palette='coolwarm')\n",
    "ax1.set_xlabel('Purpose of Loan', fontsize=14, color='#333333')\n",
    "ax1.set_ylabel('Chargedoff Proportion', fontsize=14, color='#333333')\n",
    "plot.xticks(rotation=45, color='#333333')\n",
    "ax1.tick_params(colors='#333333')\n",
    "\n",
    "plot.show()"
   ]
  },
  {
   "cell_type": "code",
   "execution_count": null,
   "id": "502d838d",
   "metadata": {
    "id": "502d838d"
   },
   "outputs": [],
   "source": [
    "#1. Those applicants who is having home loan is having low chances of loan defaults.\n",
    "#2. Those applicants having loan for small bussiness is having high chances for loan defaults."
   ]
  },
  {
   "cell_type": "code",
   "execution_count": null,
   "id": "913b9f07",
   "metadata": {
    "id": "913b9f07"
   },
   "outputs": [],
   "source": [
    "#Bivariate Analysis on DTI against Chargedoff_Proportion -\n",
    "\n",
    "dti_vs_loan = loan_df.groupby(['dti_b', 'loan_status']).loan_status.count().unstack().fillna(0).reset_index()\n",
    "dti_vs_loan['Total'] = dti_vs_loan['Charged Off']+ dti_vs_loan['Fully Paid']\n",
    "dti_vs_loan['Chargedoff_Proportion'] = dti_vs_loan['Charged Off'] / dti_vs_loan['Total']\n",
    "dti_vs_loan.sort_values('Chargedoff_Proportion', ascending=False)"
   ]
  },
  {
   "cell_type": "code",
   "execution_count": null,
   "id": "317d4fdd",
   "metadata": {
    "id": "317d4fdd"
   },
   "outputs": [],
   "source": [
    "fig, ax1 = plot.subplots(figsize=(12, 8),facecolor='b')\n",
    "ax1.set_title('Debt To Income Ratio vs Chargedoff Proportion',fontsize=15,color='w')\n",
    "ax1=sea.barplot(x='dti_b', y='Chargedoff_Proportion', data=dti_vs_loan)\n",
    "ax1.set_xlabel('Debt To Income Ratio',fontsize=14,color='w')\n",
    "ax1.set_ylabel('Chargedoff Proportion',fontsize=14,color = 'w')\n",
    "plot.xticks(rotation=45)\n",
    "plot.show()"
   ]
  },
  {
   "cell_type": "code",
   "execution_count": null,
   "id": "032ebf2b",
   "metadata": {
    "id": "032ebf2b"
   },
   "outputs": [],
   "source": [
    "# Observation:\n",
    "#1.High DTI value  having high risk of defaults\n",
    "# 2 Lower the DTO having low chances loan defaults."
   ]
  },
  {
   "cell_type": "code",
   "execution_count": null,
   "id": "da364586",
   "metadata": {
    "id": "da364586",
    "outputId": "8f57323e-3a35-4b8b-9104-1fd00b78c63a"
   },
   "outputs": [],
   "source": [
    "loan_df['pub_rec_bankruptcies'].value_counts()"
   ]
  },
  {
   "cell_type": "code",
   "execution_count": null,
   "id": "eb4e02b4",
   "metadata": {
    "id": "eb4e02b4"
   },
   "outputs": [],
   "source": [
    "# #Bivariate Analysis on Bankruptcies Record against Chargedoff_Proportion -\n",
    "pub_rec_bankruptcies_vs_loan = loan_df.groupby(['pub_rec_bankruptcies', 'loan_status']).loan_status.count().unstack().fillna(0).reset_index()\n",
    "pub_rec_bankruptcies_vs_loan['Total'] = pub_rec_bankruptcies_vs_loan['Charged Off']+ pub_rec_bankruptcies_vs_loan['Fully Paid']\n",
    "pub_rec_bankruptcies_vs_loan['Chargedoff_Proportion'] = pub_rec_bankruptcies_vs_loan['Charged Off'] / pub_rec_bankruptcies_vs_loan['Total']\n",
    "pub_rec_bankruptcies_vs_loan.sort_values('Chargedoff_Proportion', ascending=False)\n",
    "\n",
    "\n",
    "# graph\n",
    "fig, ax1 = plot.subplots(figsize=(12, 8),facecolor='b')\n",
    "ax1.set_title('Bankruptcies Record vs Chargedoff Proportion',fontsize=15,color='w')\n",
    "ax1=sea.barplot(x='pub_rec_bankruptcies', y='Chargedoff_Proportion', data=pub_rec_bankruptcies_vs_loan)\n",
    "ax1.set_xlabel('Bankruptcies Record To Income Ratio',fontsize=14,color='w')\n",
    "plot.xticks(rotation=45)\n",
    "plot.show()"
   ]
  },
  {
   "cell_type": "code",
   "execution_count": null,
   "id": "6d53f602",
   "metadata": {
    "id": "6d53f602"
   },
   "outputs": [],
   "source": [
    "# Observations:\n",
    "#1.Bankruptcies Record with 2 is having high impact on loan defaults\n",
    "# 2.Bankruptcies Record with 0 is low impact on loan defaults\n",
    "# 3.Lower the Bankruptcies lower the risk."
   ]
  },
  {
   "cell_type": "code",
   "execution_count": null,
   "id": "d80942c2",
   "metadata": {
    "id": "d80942c2"
   },
   "outputs": [],
   "source": [
    "# #Bivariate Analysis on Issues of Year  against Chargedoff_Proportion -\n",
    "\n",
    "issue_year_vs_loan = loan_df.groupby(['issue_year', 'loan_status']).loan_status.count().unstack().fillna(0).reset_index()\n",
    "issue_year_vs_loan['Total'] = issue_year_vs_loan['Charged Off']+ issue_year_vs_loan['Fully Paid']\n",
    "issue_year_vs_loan['Chargedoff_Proportion'] = issue_year_vs_loan['Charged Off'] / issue_year_vs_loan['Total']\n",
    "issue_year_vs_loan.sort_values('Chargedoff_Proportion', ascending=False)\n",
    "\n",
    "\n",
    "# graph\n",
    "fig, ax1 = plot.subplots(figsize=(12, 8),facecolor='b')\n",
    "ax1.set_title('Issues Year  vs Chargedoff Proportion',fontsize=15,color='w')\n",
    "ax1=sea.barplot(x='issue_year', y='Chargedoff_Proportion', data=issue_year_vs_loan)\n",
    "ax1.set_xlabel('Year',fontsize=14,color='w')\n",
    "ax1.set_ylabel('Chargedoff Proportion',fontsize=14,color = 'w')\n",
    "plot.xticks(rotation=45)\n",
    "plot.show()"
   ]
  },
  {
   "cell_type": "code",
   "execution_count": null,
   "id": "faaadfb1",
   "metadata": {
    "id": "faaadfb1"
   },
   "outputs": [],
   "source": [
    "    # Year 2007 is highest loan defaults.\n",
    "    # 2009 is having lowest loan defaults.\n"
   ]
  },
  {
   "cell_type": "code",
   "execution_count": null,
   "id": "8c6150ee",
   "metadata": {
    "id": "8c6150ee"
   },
   "outputs": [],
   "source": [
    "# #Bivariate Analysis on Month of Issue of loan Record against Chargedoff_Proportion -\n",
    "\n",
    "issue_month_vs_loan = loan_df.groupby(['issue_month', 'loan_status']).loan_status.count().unstack().fillna(0).reset_index()\n",
    "issue_month_vs_loan['Total'] = issue_month_vs_loan['Charged Off']+ issue_month_vs_loan['Fully Paid']\n",
    "issue_month_vs_loan['Chargedoff_Proportion'] = issue_month_vs_loan['Charged Off'] / issue_month_vs_loan['Total']\n",
    "issue_month_vs_loan.sort_values('Chargedoff_Proportion', ascending=False)\n",
    "\n",
    "\n",
    "# graph\n",
    "fig, ax1 = plot.subplots(figsize=(12, 8),facecolor='b')\n",
    "ax1.set_title('Issue Month  vs Chargedoff Proportion',fontsize=15,color='w')\n",
    "ax1=sea.barplot(x='issue_month', y='Chargedoff_Proportion', data=issue_month_vs_loan)\n",
    "ax1.set_xlabel('Issue Month ',fontsize=14,color='w')\n",
    "ax1.set_ylabel('Chargedoff Proportion',fontsize=14,color = 'w')\n",
    "plot.xticks(rotation=45)\n",
    "plot.show()"
   ]
  },
  {
   "cell_type": "code",
   "execution_count": null,
   "id": "a0db92b4",
   "metadata": {
    "id": "a0db92b4"
   },
   "outputs": [],
   "source": []
  },
  {
   "cell_type": "code",
   "execution_count": null,
   "id": "6e906a6a",
   "metadata": {
    "id": "6e906a6a"
   },
   "outputs": [],
   "source": [
    "# 1. Those loan has been issued in May, September and december is having high number of loan defaults\n",
    "# 2. Those loan has been issued in month of February is having high number of loan defaults\n",
    "#3. Majority of loan defaults comig from applicants whose loan has been aprroved from September-to Deceber"
   ]
  },
  {
   "cell_type": "code",
   "execution_count": null,
   "id": "a6b8db36",
   "metadata": {
    "id": "a6b8db36"
   },
   "outputs": [],
   "source": [
    "# #Bivariate Analysis on Address state  against Chargedoff_Proportion -\n",
    "\n",
    "addr_state_vs_loan = loan_df.groupby(['addr_state', 'loan_status']).loan_status.count().unstack().fillna(0).reset_index()\n",
    "addr_state_vs_loan['Total'] = addr_state_vs_loan['Charged Off']+ addr_state_vs_loan['Fully Paid']\n",
    "addr_state_vs_loan['Chargedoff_Proportion'] = addr_state_vs_loan['Charged Off'] / addr_state_vs_loan['Total']\n",
    "addr_state_vs_loan.sort_values('Chargedoff_Proportion', ascending=False)\n",
    "\n",
    "# graph\n",
    "fig, ax1 = plot.subplots(figsize=(12, 8),facecolor='b')\n",
    "ax1.set_title('State  vs Chargedoff Proportion',fontsize=15,color='w')\n",
    "ax1=sea.barplot(x='addr_state', y='Chargedoff_Proportion', data=addr_state_vs_loan)\n",
    "ax1.set_xlabel('State ',fontsize=14,color='w')\n",
    "ax1.set_ylabel('Chargedoff Proportion',fontsize=14,color = 'w')\n",
    "plot.xticks(rotation=45)\n",
    "plot.show()"
   ]
  },
  {
   "cell_type": "code",
   "execution_count": null,
   "id": "23c704ba",
   "metadata": {
    "id": "23c704ba"
   },
   "outputs": [],
   "source": [
    "# Observations:\n",
    "# 1.DE States is holding highest number of loan defaults.\n",
    "# 2.CA is having low number of loan defaults"
   ]
  },
  {
   "cell_type": "code",
   "execution_count": null,
   "id": "3ba1011c",
   "metadata": {
    "id": "3ba1011c"
   },
   "outputs": [],
   "source": [
    "# #Bivariate Analysis on Grade against Chargedoff_Proportion -\n",
    "\n",
    "grade_vs_loan = loan_df.groupby(['grade', 'loan_status']).loan_status.count().unstack().fillna(0).reset_index()\n",
    "grade_vs_loan['Total'] = grade_vs_loan['Charged Off']+ grade_vs_loan['Fully Paid']\n",
    "grade_vs_loan['Chargedoff_Proportion'] = grade_vs_loan['Charged Off'] / grade_vs_loan['Total']\n",
    "grade_vs_loan.sort_values('Chargedoff_Proportion', ascending=False)\n",
    "\n",
    "\n",
    "# graph\n",
    "fig, ax1 = plot.subplots(figsize=(12, 8),facecolor='b')\n",
    "ax1.set_title('Grade  vs Chargedoff Proportion',fontsize=15,color='w')\n",
    "ax1=sea.barplot(x='grade', y='Chargedoff_Proportion', data=grade_vs_loan)\n",
    "ax1.set_xlabel('Grade ',fontsize=14,color='w')\n",
    "ax1.set_ylabel('Chargedoff Proportion',fontsize=14,color = 'w')\n",
    "plot.xticks(rotation=45)\n",
    "plot.show()"
   ]
  },
  {
   "cell_type": "code",
   "execution_count": null,
   "id": "fc66ecdb",
   "metadata": {
    "id": "fc66ecdb"
   },
   "outputs": [],
   "source": [
    "    # observations :\n",
    "    #1. The Loan applicants with loan Grade G is having higest Loan Defaults.\n",
    "    #2. The Loan applicants with loan A is having lowest Loan Defaults."
   ]
  },
  {
   "cell_type": "markdown",
   "id": "lSyLP3LiCpgL",
   "metadata": {
    "id": "lSyLP3LiCpgL"
   },
   "source": [
    "## 7.  Correlation Analysis"
   ]
  },
  {
   "cell_type": "code",
   "execution_count": null,
   "id": "qkJ_iPf2_PJm",
   "metadata": {
    "colab": {
     "base_uri": "https://localhost:8080/",
     "height": 808
    },
    "id": "qkJ_iPf2_PJm",
    "outputId": "05d7396f-934c-4069-b063-4c72d054e8c9"
   },
   "outputs": [],
   "source": [
    "import matplotlib.pyplot as plot\n",
    "import seaborn as sea\n",
    "import pandas as pd\n",
    "\n",
    "corr_loan = loan_df.select_dtypes(include=[np.number])  \n",
    "corr = corr_loan.corr()\n",
    "\n",
    "sea.set(font_scale=1.1)\n",
    "\n",
    "sea.clustermap(corr, annot=True, figsize=(12, 8), cmap=\"Blues\")\n",
    "\n",
    "plot.show()\n"
   ]
  },
  {
   "cell_type": "code",
   "execution_count": null,
   "id": "SIJCtza8_lUP",
   "metadata": {
    "id": "SIJCtza8_lUP"
   },
   "outputs": [],
   "source": [
    "drop_columns = ['installment', 'id', 'issue_year', 'issue_month']\n",
    "corr_loan = corr_loan.drop(columns=drop_columns)"
   ]
  },
  {
   "cell_type": "code",
   "execution_count": null,
   "id": "8pDf6noC_9U3",
   "metadata": {
    "id": "8pDf6noC_9U3"
   },
   "outputs": [],
   "source": [
    "corr = corr_loan.corr()\n",
    "sea.set(font_scale=1.1)\n",
    "sea.clustermap(corr, annot=True, figsize=(12, 8), cmap=\"Blues\")\n",
    "plot.show()"
   ]
  },
  {
   "cell_type": "markdown",
   "id": "lr36Faa6A0MN",
   "metadata": {
    "id": "lr36Faa6A0MN"
   },
   "source": [
    "Negative Correlation:\n",
    "\n",
    "1.loan_amnt has negative correlation with pub_rec_bankrupticies\n",
    "\n",
    "2.annual income has a negative correlation with dti\n",
    "\n",
    "Strong Correlation:\n",
    "\n",
    "1.term has a strong correlation with loan amount\n",
    "\n",
    "2.term has a strong correlation with interest rate\n",
    "\n",
    "3.annual income has a strong correlation with loan_amount"
   ]
  },
  {
   "cell_type": "code",
   "execution_count": null,
   "id": "8SfpdRnTAK07",
   "metadata": {
    "id": "8SfpdRnTAK07"
   },
   "outputs": [],
   "source": [
    "sea.boxplot(x = 'term', y = 'loan_amnt', data=corr_loan)"
   ]
  },
  {
   "cell_type": "markdown",
   "id": "G9RvudHYBc5b",
   "metadata": {
    "id": "G9RvudHYBc5b"
   },
   "source": [
    "from the above graph we can see that if term is increasing loan amount is also increasing"
   ]
  },
  {
   "cell_type": "code",
   "execution_count": null,
   "id": "s8dicXhrBU_L",
   "metadata": {
    "id": "s8dicXhrBU_L"
   },
   "outputs": [],
   "source": [
    "sea.boxplot(x = 'term', y = 'int_rate', data=corr_loan)"
   ]
  },
  {
   "cell_type": "code",
   "execution_count": null,
   "id": "6201bf30-eb6c-4c2e-b6c0-01a1ccd1be0f",
   "metadata": {},
   "outputs": [],
   "source": []
  },
  {
   "cell_type": "code",
   "execution_count": null,
   "id": "5020995d-c73a-4c80-8e55-b8f0457e40bd",
   "metadata": {},
   "outputs": [],
   "source": []
  },
  {
   "cell_type": "code",
   "execution_count": null,
   "id": "44161da6-2113-4b2d-8328-bf1a7fb35099",
   "metadata": {},
   "outputs": [],
   "source": []
  },
  {
   "cell_type": "code",
   "execution_count": null,
   "id": "6cc3ebaa-214a-4467-8dce-9a0a4e9b2597",
   "metadata": {},
   "outputs": [],
   "source": []
  },
  {
   "cell_type": "code",
   "execution_count": null,
   "id": "a7cb1570-e101-4fe9-b7c3-f1f975042a2d",
   "metadata": {},
   "outputs": [],
   "source": []
  },
  {
   "cell_type": "code",
   "execution_count": null,
   "id": "d9db01fd-c91f-41e3-a4bf-e94e6feba3c0",
   "metadata": {},
   "outputs": [],
   "source": []
  },
  {
   "cell_type": "code",
   "execution_count": null,
   "id": "7ac59490-64a8-4d66-9ddc-64a1db27fbc9",
   "metadata": {},
   "outputs": [],
   "source": []
  },
  {
   "cell_type": "code",
   "execution_count": null,
   "id": "5c9d65ef-8cfc-4ed7-8713-c5a85b8bb361",
   "metadata": {},
   "outputs": [],
   "source": []
  }
 ],
 "metadata": {
  "colab": {
   "provenance": []
  },
  "kernelspec": {
   "display_name": "Python 3 (ipykernel)",
   "language": "python",
   "name": "python3"
  },
  "language_info": {
   "codemirror_mode": {
    "name": "ipython",
    "version": 3
   },
   "file_extension": ".py",
   "mimetype": "text/x-python",
   "name": "python",
   "nbconvert_exporter": "python",
   "pygments_lexer": "ipython3",
   "version": "3.12.4"
  }
 },
 "nbformat": 4,
 "nbformat_minor": 5
}
